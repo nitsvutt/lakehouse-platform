{
 "cells": [
  {
   "cell_type": "code",
   "execution_count": 1,
   "id": "617acdfb-8b41-46ac-9e08-79b2925cab7d",
   "metadata": {
    "scrolled": true
   },
   "outputs": [
    {
     "name": "stdout",
     "output_type": "stream",
     "text": [
      "Collecting jupysql\n",
      "  Downloading jupysql-0.10.12-py3-none-any.whl.metadata (5.6 kB)\n",
      "Collecting prettytable (from jupysql)\n",
      "  Downloading prettytable-3.10.2-py3-none-any.whl.metadata (30 kB)\n",
      "Requirement already satisfied: sqlalchemy in /usr/local/lib/python3.10/site-packages (from jupysql) (2.0.29)\n",
      "Collecting sqlparse (from jupysql)\n",
      "  Downloading sqlparse-0.5.1-py3-none-any.whl.metadata (3.9 kB)\n",
      "Collecting ipython-genutils>=0.1.0 (from jupysql)\n",
      "  Downloading ipython_genutils-0.2.0-py2.py3-none-any.whl.metadata (755 bytes)\n",
      "Requirement already satisfied: jinja2 in /usr/local/lib/python3.10/site-packages (from jupysql) (3.1.4)\n",
      "Collecting sqlglot>=11.3.7 (from jupysql)\n",
      "  Downloading sqlglot-25.10.0-py3-none-any.whl.metadata (19 kB)\n",
      "Collecting jupysql-plugin>=0.4.2 (from jupysql)\n",
      "  Downloading jupysql_plugin-0.4.4-py3-none-any.whl.metadata (7.8 kB)\n",
      "Collecting ploomber-core>=0.2.7 (from jupysql)\n",
      "  Downloading ploomber_core-0.2.25-py3-none-any.whl.metadata (536 bytes)\n",
      "Collecting ploomber-extension (from jupysql)\n",
      "  Downloading ploomber_extension-0.1.1-py3-none-any.whl.metadata (7.5 kB)\n",
      "Requirement already satisfied: pyyaml in /usr/local/lib/python3.10/site-packages (from ploomber-core>=0.2.7->jupysql) (6.0.1)\n",
      "Collecting posthog (from ploomber-core>=0.2.7->jupysql)\n",
      "  Downloading posthog-3.5.0-py2.py3-none-any.whl.metadata (2.0 kB)\n",
      "Requirement already satisfied: MarkupSafe>=2.0 in /usr/local/lib/python3.10/site-packages (from jinja2->jupysql) (2.1.5)\n",
      "Requirement already satisfied: wcwidth in /usr/local/lib/python3.10/site-packages (from prettytable->jupysql) (0.2.13)\n",
      "Requirement already satisfied: typing-extensions>=4.6.0 in /usr/local/lib/python3.10/site-packages (from sqlalchemy->jupysql) (4.12.2)\n",
      "Requirement already satisfied: greenlet!=0.4.17 in /usr/local/lib/python3.10/site-packages (from sqlalchemy->jupysql) (3.0.3)\n",
      "Requirement already satisfied: requests<3.0,>=2.7 in /usr/local/lib/python3.10/site-packages (from posthog->ploomber-core>=0.2.7->jupysql) (2.32.3)\n",
      "Requirement already satisfied: six>=1.5 in /usr/local/lib/python3.10/site-packages (from posthog->ploomber-core>=0.2.7->jupysql) (1.16.0)\n",
      "Collecting monotonic>=1.5 (from posthog->ploomber-core>=0.2.7->jupysql)\n",
      "  Downloading monotonic-1.6-py2.py3-none-any.whl.metadata (1.5 kB)\n",
      "Collecting backoff>=1.10.0 (from posthog->ploomber-core>=0.2.7->jupysql)\n",
      "  Downloading backoff-2.2.1-py3-none-any.whl.metadata (14 kB)\n",
      "Requirement already satisfied: python-dateutil>2.1 in /usr/local/lib/python3.10/site-packages (from posthog->ploomber-core>=0.2.7->jupysql) (2.9.0.post0)\n",
      "Requirement already satisfied: charset-normalizer<4,>=2 in /usr/local/lib/python3.10/site-packages (from requests<3.0,>=2.7->posthog->ploomber-core>=0.2.7->jupysql) (3.3.2)\n",
      "Requirement already satisfied: idna<4,>=2.5 in /usr/local/lib/python3.10/site-packages (from requests<3.0,>=2.7->posthog->ploomber-core>=0.2.7->jupysql) (3.7)\n",
      "Requirement already satisfied: urllib3<3,>=1.21.1 in /usr/local/lib/python3.10/site-packages (from requests<3.0,>=2.7->posthog->ploomber-core>=0.2.7->jupysql) (2.2.2)\n",
      "Requirement already satisfied: certifi>=2017.4.17 in /usr/local/lib/python3.10/site-packages (from requests<3.0,>=2.7->posthog->ploomber-core>=0.2.7->jupysql) (2024.7.4)\n",
      "Downloading jupysql-0.10.12-py3-none-any.whl (95 kB)\n",
      "Downloading ipython_genutils-0.2.0-py2.py3-none-any.whl (26 kB)\n",
      "Downloading jupysql_plugin-0.4.4-py3-none-any.whl (249 kB)\n",
      "Downloading ploomber_core-0.2.25-py3-none-any.whl (22 kB)\n",
      "Downloading sqlglot-25.10.0-py3-none-any.whl (396 kB)\n",
      "Downloading ploomber_extension-0.1.1-py3-none-any.whl (193 kB)\n",
      "Downloading prettytable-3.10.2-py3-none-any.whl (28 kB)\n",
      "Downloading sqlparse-0.5.1-py3-none-any.whl (44 kB)\n",
      "Downloading posthog-3.5.0-py2.py3-none-any.whl (41 kB)\n",
      "Downloading backoff-2.2.1-py3-none-any.whl (15 kB)\n",
      "Downloading monotonic-1.6-py2.py3-none-any.whl (8.2 kB)\n",
      "Installing collected packages: monotonic, ipython-genutils, sqlparse, sqlglot, prettytable, backoff, posthog, ploomber-core, ploomber-extension, jupysql-plugin, jupysql\n",
      "Successfully installed backoff-2.2.1 ipython-genutils-0.2.0 jupysql-0.10.12 jupysql-plugin-0.4.4 monotonic-1.6 ploomber-core-0.2.25 ploomber-extension-0.1.1 posthog-3.5.0 prettytable-3.10.2 sqlglot-25.10.0 sqlparse-0.5.1\n",
      "\u001b[33mWARNING: Running pip as the 'root' user can result in broken permissions and conflicting behaviour with the system package manager, possibly rendering your system unusable.It is recommended to use a virtual environment instead: https://pip.pypa.io/warnings/venv. Use the --root-user-action option if you know what you are doing and want to suppress this warning.\u001b[0m\u001b[33m\n",
      "\u001b[0m"
     ]
    }
   ],
   "source": [
    "! pip install jupysql"
   ]
  },
  {
   "cell_type": "code",
   "execution_count": 4,
   "id": "ee20a8d2-1ed1-40aa-95c1-3217c021c313",
   "metadata": {},
   "outputs": [
    {
     "name": "stderr",
     "output_type": "stream",
     "text": [
      "Warning: Ignoring non-Spark config property: hive.metastore.uris\n",
      "24/08/10 17:21:37 WARN NativeCodeLoader: Unable to load native-hadoop library for your platform... using builtin-java classes where applicable\n",
      "Setting default log level to \"WARN\".\n",
      "To adjust logging level use sc.setLogLevel(newLevel). For SparkR, use setLogLevel(newLevel).\n",
      "24/08/10 17:21:43 WARN TransportClientFactory: DNS resolution succeed for spark-master/172.18.0.2:7077 took 5009 ms\n"
     ]
    }
   ],
   "source": [
    "from pyspark.sql import SparkSession\n",
    "\n",
    "spark = (\n",
    "    SparkSession.builder\n",
    "    .master(\"spark://spark-master:7077\")\n",
    "    .appName(\"test_jupysql\")\n",
    "    .config(\"spark.driver.memory\", \"1g\")\n",
    "    .config(\"hive.metastore.uris\", \"thrift://hive-metastore:9083\")\n",
    "    .config(\"spark.sql.warehouse.dir\", \"hdfs://namenode:9000/user/hive/warehouse/default\")\n",
    "    .config(\"spark.jars\", \"\"\"\n",
    "        hdfs://namenode:9000/user/hive/spark_jars/iceberg-hive-runtime-1.4.3.jar,\n",
    "        hdfs://namenode:9000/user/hive/spark_jars/iceberg-spark-runtime-3.4_2.12-1.4.3.jar\n",
    "    \"\"\")\n",
    "    .config(\"spark.sql.extensions\", \"org.apache.iceberg.spark.extensions.IcebergSparkSessionExtensions\")\n",
    "    .config(\"spark.sql.catalog.spark_catalog\", \"org.apache.iceberg.spark.SparkSessionCatalog\")\n",
    "    .config(\"spark.executor.cores\", 3)\n",
    "    .config(\"spark.executor.memory\", \"6g\")\n",
    "    .config(\"spark.executor.instances\", 2)\n",
    "    .enableHiveSupport()\n",
    "    .getOrCreate()\n",
    ")"
   ]
  },
  {
   "cell_type": "code",
   "execution_count": 2,
   "id": "80b03acd-d57a-4ae6-bd1b-1d498974056d",
   "metadata": {},
   "outputs": [
    {
     "name": "stdout",
     "output_type": "stream",
     "text": [
      "Deploy Panel apps for free on Ploomber Cloud! Learn more: https://ploomber.io/s/signup\n"
     ]
    }
   ],
   "source": [
    "%load_ext sql"
   ]
  },
  {
   "cell_type": "code",
   "execution_count": 9,
   "id": "0de9a5bb-c435-4be8-ab75-5296be51aa90",
   "metadata": {},
   "outputs": [],
   "source": [
    "%sql spark"
   ]
  },
  {
   "cell_type": "code",
   "execution_count": 33,
   "id": "6df1a154-888b-4db6-9fa6-7e043303a933",
   "metadata": {},
   "outputs": [
    {
     "data": {
      "text/html": [
       "<span style=\"None\">Running query in &#x27;SparkSession&#x27;</span>"
      ],
      "text/plain": [
       "Running query in 'SparkSession'"
      ]
     },
     "metadata": {},
     "output_type": "display_data"
    },
    {
     "data": {
      "text/html": [
       "<span style=\"color: green\">1 rows affected.</span>"
      ],
      "text/plain": [
       "1 rows affected."
      ]
     },
     "metadata": {},
     "output_type": "display_data"
    },
    {
     "data": {
      "text/html": [
       "<table>\n",
       "    <thead>\n",
       "        <tr>\n",
       "            <th>Field 1</th>\n",
       "            <th>Field 2</th>\n",
       "        </tr>\n",
       "    </thead>\n",
       "    <tbody>\n",
       "        <tr>\n",
       "            <td>1</td>\n",
       "            <td>2</td>\n",
       "        </tr>\n",
       "    </tbody>\n",
       "</table>"
      ],
      "text/plain": [
       "+---------+---------+\n",
       "| Field 1 | Field 2 |\n",
       "+---------+---------+\n",
       "|    1    |    2    |\n",
       "+---------+---------+"
      ]
     },
     "execution_count": 33,
     "metadata": {},
     "output_type": "execute_result"
    }
   ],
   "source": [
    "%sql select key, value from rawvault.test_iceberg"
   ]
  }
 ],
 "metadata": {
  "kernelspec": {
   "display_name": "Python 3 (ipykernel)",
   "language": "python",
   "name": "python3"
  },
  "language_info": {
   "codemirror_mode": {
    "name": "ipython",
    "version": 3
   },
   "file_extension": ".py",
   "mimetype": "text/x-python",
   "name": "python",
   "nbconvert_exporter": "python",
   "pygments_lexer": "ipython3",
   "version": "3.10.18"
  }
 },
 "nbformat": 4,
 "nbformat_minor": 5
}

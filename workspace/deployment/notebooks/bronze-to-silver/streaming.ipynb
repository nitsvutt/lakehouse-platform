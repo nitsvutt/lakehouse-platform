{
 "cells": [
  {
   "cell_type": "markdown",
   "id": "fc577f76-fd2d-4485-964e-65ede3f67ef9",
   "metadata": {},
   "source": [
    "# init spark session"
   ]
  },
  {
   "cell_type": "code",
   "execution_count": 2,
   "id": "af0dacdc-a5f2-4cbb-ac15-04f94e237c17",
   "metadata": {},
   "outputs": [
    {
     "data": {
      "text/html": [
       "<style>pre { white-space: pre !important; }.container { width:100% !important; }</style>"
      ],
      "text/plain": [
       "<IPython.core.display.HTML object>"
      ]
     },
     "metadata": {},
     "output_type": "display_data"
    }
   ],
   "source": [
    "from IPython.core.display import HTML\n",
    "display(HTML(\"\"\"<style>pre { white-space: pre !important; }.container { width:100% !important; }</style>\"\"\"))"
   ]
  },
  {
   "cell_type": "code",
   "execution_count": 3,
   "id": "6dd2e3c0-4c45-409a-a500-cf3809a4b9b1",
   "metadata": {
    "scrolled": true
   },
   "outputs": [
    {
     "name": "stderr",
     "output_type": "stream",
     "text": [
      "/opt/spark/bin/load-spark-env.sh: line 68: ps: command not found\n",
      "Warning: Ignoring non-Spark config property: hive.metastore.uris\n",
      "25/09/17 12:15:08 WARN NativeCodeLoader: Unable to load native-hadoop library for your platform... using builtin-java classes where applicable\n",
      "Setting default log level to \"WARN\".\n",
      "To adjust logging level use sc.setLogLevel(newLevel). For SparkR, use setLogLevel(newLevel).\n",
      "25/09/17 12:15:09 WARN Client: Neither spark.yarn.jars nor spark.yarn.archive is set, falling back to uploading libraries under SPARK_HOME.\n"
     ]
    }
   ],
   "source": [
    "from pyspark.sql import SparkSession\n",
    "from sqlalchemy import create_engine, text\n",
    "engine = create_engine('trino://trino@host.docker.internal:9090/iceberg')\n",
    "\n",
    "spark = (\n",
    "    SparkSession.builder\n",
    "    .master(\"yarn\")\n",
    "    .appName(\"bronze-to-silver\")\n",
    "    .config(\"spark.driver.memory\", \"1g\")\n",
    "    .config(\"hive.metastore.uris\", \"thrift://hive-metastore:9083\")\n",
    "    .config(\"spark.sql.warehouse.dir\", \"hdfs://yarn-master:9000/user/hive/warehouse/default\")\n",
    "    .config(\"spark.jars\", \"\"\"\n",
    "        hdfs://yarn-master:9000/user/hive/spark_jars/iceberg-hive-runtime-1.4.3.jar,\n",
    "        hdfs://yarn-master:9000/user/hive/spark_jars/iceberg-spark-runtime-3.4_2.12-1.4.3.jar\n",
    "    \"\"\")\n",
    "    .config(\"spark.sql.extensions\", \"org.apache.iceberg.spark.extensions.IcebergSparkSessionExtensions\")\n",
    "    .config(\"spark.sql.catalog.spark_catalog\", \"org.apache.iceberg.spark.SparkSessionCatalog\")\n",
    "    .config(\"spark.executor.cores\", 3)\n",
    "    .config(\"spark.executor.memory\", \"4g\")\n",
    "    .config(\"spark.executor.instances\", 1)\n",
    "    .enableHiveSupport()\n",
    "    .getOrCreate()\n",
    ")\n",
    "\n",
    "warehouse_path = \"/user/hive/warehouse\"\n",
    "data_source = \"product1.public\"\n",
    "biz_key_map = {\n",
    "    \"customer\": [\"customer_id\"],\n",
    "    \"service\": [\"service_id\"],\n",
    "    \"period\": [\"period_id\"],\n",
    "    \"trans\": [\"trans_id\"],\n",
    "    \"review\": [\"review_id\"]\n",
    "}"
   ]
  },
  {
   "cell_type": "code",
   "execution_count": 3,
   "id": "be45a8b9-61fb-4f2c-bac0-85098ab3aaa0",
   "metadata": {},
   "outputs": [
    {
     "data": {
      "text/plain": [
       "DataFrame[]"
      ]
     },
     "execution_count": 3,
     "metadata": {},
     "output_type": "execute_result"
    }
   ],
   "source": [
    "spark.sql(f\"\"\"\n",
    "    create database if not exists bronze\n",
    "    location '{warehouse_path}/bronze'\n",
    "    \"\"\")\n",
    "spark.sql(f\"\"\"\n",
    "    create database if not exists silver\n",
    "    location '{warehouse_path}/silver'\n",
    "    \"\"\")\n",
    "spark.sql(f\"\"\"\n",
    "    create database if not exists gold\n",
    "    location '{warehouse_path}/gold'\n",
    "    \"\"\")"
   ]
  },
  {
   "cell_type": "code",
   "execution_count": 4,
   "id": "f374e35d-0524-4336-94bd-964d6bcdc85b",
   "metadata": {},
   "outputs": [
    {
     "name": "stdout",
     "output_type": "stream",
     "text": [
      "+---------+\n",
      "|namespace|\n",
      "+---------+\n",
      "|   bronze|\n",
      "|  default|\n",
      "|     gold|\n",
      "|   silver|\n",
      "+---------+\n",
      "\n"
     ]
    }
   ],
   "source": [
    "spark.sql(\"show databases\").show()"
   ]
  },
  {
   "cell_type": "markdown",
   "id": "80ad1ae5-981a-4040-9141-70a5a0af38eb",
   "metadata": {},
   "source": [
    "# create new bronze tables"
   ]
  },
  {
   "cell_type": "code",
   "execution_count": 5,
   "id": "06c582fd-0b08-4ba8-aadc-9f8f7c1dabb6",
   "metadata": {
    "scrolled": true
   },
   "outputs": [
    {
     "name": "stdout",
     "output_type": "stream",
     "text": [
      "## all_tables=['product1.public.customer']\n"
     ]
    },
    {
     "name": "stderr",
     "output_type": "stream",
     "text": [
      "                                                                                "
     ]
    },
    {
     "name": "stdout",
     "output_type": "stream",
     "text": [
      "## create table bronze.product1_public_customer\n"
     ]
    },
    {
     "name": "stderr",
     "output_type": "stream",
     "text": [
      "25/09/17 06:56:53 WARN SessionState: METASTORE_FILTER_HOOK will be ignored, since hive.security.authorization.manager is set to instance of HiveAuthorizerFactory.\n"
     ]
    }
   ],
   "source": [
    "import re\n",
    "\n",
    "print(f\"{'#'*2} - Create new bronze tables\")\n",
    "pattern = re.compile(rf\"{data_source}.*\")\n",
    "hadoop = spark.sparkContext._jvm.org.apache.hadoop\n",
    "fs = hadoop.fs.FileSystem\n",
    "conf = hadoop.conf.Configuration() \n",
    "path = hadoop.fs.Path(f\"{warehouse_path}/bronze/topics\")\n",
    "all_paths = [str(f.getPath()).split(\"/\")[-1] for f in fs.get(conf).listStatus(path)]\n",
    "all_tables = [path for path in all_paths if pattern.match(path)]\n",
    "print(f\"{'#'*4} - all_tables={all_tables}\")\n",
    "for table in all_tables:\n",
    "    hdfs_path = f\"{warehouse_path}/bronze/topics/{table}\"\n",
    "    table_name = table.replace(\".\", \"_\")\n",
    "    df = (\n",
    "        spark.read.format('parquet')\n",
    "        .options(header=True, inferSchema=True)\n",
    "        .load(hdfs_path)\n",
    "    )\n",
    "    if spark.sql(f\"show tables from bronze like '{table_name}'\").isEmpty():\n",
    "        print(f\"{'#'*4} - Create table bronze.{table_name}\")\n",
    "        spark.sql(f\"\"\"\n",
    "            create external table if not exists bronze.{table_name}\n",
    "            ({', '.join([col + ' ' + dtype for col, dtype in df.dtypes])})\n",
    "            partitioned by (__ds)\n",
    "            stored as parquet\n",
    "            location \"{hdfs_path}\"\n",
    "        \"\"\")\n",
    "        spark.sql(f'repair table bronze.{table_name}')"
   ]
  },
  {
   "cell_type": "code",
   "execution_count": 7,
   "id": "832e9476-bcb6-4792-90e0-6fe7ca58ed11",
   "metadata": {
    "scrolled": true
   },
   "outputs": [
    {
     "name": "stderr",
     "output_type": "stream",
     "text": [
      "[Stage 1:>                                                          (0 + 1) / 1]"
     ]
    },
    {
     "name": "stdout",
     "output_type": "stream",
     "text": [
      "+-----------+----------+---------+----------+-------+------------+--------+---------------+-------------------+---------+----+--------+-----------------------+----------+\n",
      "|customer_id|first_name|last_name|birth_date|address|phone_number|email   |job_title      |updated_datetime   |__deleted|__op|__lsn   |__src_ts_ms            |__ds      |\n",
      "+-----------+----------+---------+----------+-------+------------+--------+---------------+-------------------+---------+----+--------+-----------------------+----------+\n",
      "|1          |Vu        |Tran     |2025-09-17|string |1           |vu.tran2|Data Engineer 1|2025-09-17 13:44:15|false    |c   |26920528|2025-09-17 06:44:15.948|2025-09-17|\n",
      "|1          |Vu        |Tran     |2025-09-17|string |2           |vu.tran2|Data Engineer 1|2025-09-17 13:45:33|false    |u   |26920912|2025-09-17 06:45:33.658|2025-09-17|\n",
      "|1          |Vu        |Tran     |2025-09-17|string |3           |vu.tran2|Data Engineer 1|2025-09-17 13:45:38|false    |u   |26921096|2025-09-17 06:45:38.231|2025-09-17|\n",
      "+-----------+----------+---------+----------+-------+------------+--------+---------------+-------------------+---------+----+--------+-----------------------+----------+\n",
      "\n"
     ]
    },
    {
     "name": "stderr",
     "output_type": "stream",
     "text": [
      "                                                                                "
     ]
    }
   ],
   "source": [
    "spark.sql(\"select * from bronze.product1_public_customer\").show(10, False)"
   ]
  },
  {
   "cell_type": "markdown",
   "id": "4aa7e393-24bc-48f7-b7af-20f7c7a415d3",
   "metadata": {},
   "source": [
    "# create new silver tables"
   ]
  },
  {
   "cell_type": "code",
   "execution_count": 15,
   "id": "6eb5ddc4-467a-430a-a1e1-16bb17661f7f",
   "metadata": {},
   "outputs": [
    {
     "name": "stdout",
     "output_type": "stream",
     "text": [
      "## - Create new silver tables\n",
      "#### - new_bronze_tables=['product1_public_customer']\n"
     ]
    }
   ],
   "source": [
    "print(f\"{'#'*2} - Create new silver tables\")\n",
    "table_name_pattern = data_source.replace(\".\", \"_\")\n",
    "bronze_table_list = (\n",
    "    spark.sql(f\"show tables from bronze like '{table_name_pattern}_*'\")\n",
    "        .select(\"tableName\")\n",
    "        .rdd.flatMap(lambda x: x).collect()\n",
    ")\n",
    "silver_table_list = (\n",
    "    spark.sql(f\"show tables from silver like '{table_name_pattern}_*'\")\n",
    "        .select(\"tableName\")\n",
    "        .rdd.flatMap(lambda x: x).collect()\n",
    ")\n",
    "new_bronze_tables = list(set(bronze_table_list) - set(silver_table_list))\n",
    "print(f\"{'#'*4} - new_bronze_tables={new_bronze_tables}\")"
   ]
  },
  {
   "cell_type": "code",
   "execution_count": 18,
   "id": "d2fe0e71-5c57-430c-88bd-9ec9fbc929c7",
   "metadata": {
    "scrolled": true
   },
   "outputs": [
    {
     "name": "stdout",
     "output_type": "stream",
     "text": [
      "#### - Create table silver.product1_public_customer_der\n",
      "#### - Create table silver.product1_public_customer_snp\n",
      "#### - Create view silver.product1_public_customer_snp_{engine_name} for spark and trino\n"
     ]
    }
   ],
   "source": [
    "for new_bronze_table in new_bronze_tables:\n",
    "    table_list = {\"derived\": f\"{new_bronze_table}_der\", \"snapshot\": f\"{new_bronze_table}_snp\"}\n",
    "    df = spark.sql(f\"select * from bronze.{new_bronze_table}\")\n",
    "    for table_type, table_name in table_list.items():\n",
    "        print(f\"{'#'*4} - Create table silver.{table_name}\")\n",
    "        spark.sql(f\"\"\"\n",
    "            create external table if not exists silver.{table_name}\n",
    "            ({', '.join([col + ' ' + dtype for col, dtype in df.dtypes])})\n",
    "            using iceberg\n",
    "            location '{warehouse_path}/silver/{table_name}'\n",
    "            tblproperties(\n",
    "                'objcapabilities'='extread,extwrite',\n",
    "                'engine.hive.enabled'='true',\n",
    "                'write.delete.mode'='copy-on-write',\n",
    "                'write.update.mode'='copy-on-write',\n",
    "                'write.merge.mode'='copy-on-write',\n",
    "                'external.table.purge'='true',\n",
    "                'iceberg.file_format'='parquet',\n",
    "                'format-version'='2',\n",
    "                'read.parquet.vectorization.batch-size'='10000',\n",
    "                'read.parquet.vectorization.enabled'='false'\n",
    "            )\n",
    "        \"\"\")\n",
    "    create_view_sql = f\"\"\"\n",
    "        create view silver.{new_bronze_table}_spark as\n",
    "        with ranking as (\n",
    "            select *,\n",
    "                row_number() over(\n",
    "                    partition by {', '.join(biz_key_map[new_bronze_table.replace(f'{table_name_pattern}_', '')])}\n",
    "                    order by __src_ts_ms desc, __lsn desc\n",
    "                ) as rn\n",
    "            from silver.{table_list['derived']}\n",
    "        )\n",
    "        select *\n",
    "        from ranking\n",
    "        where rn = 1 and __op <> 'd'\n",
    "    \"\"\"\n",
    "    print(f\"{'#'*4} - Create view silver.{table_name}_spark\")\n",
    "    spark.sql(create_view_sql)\n",
    "    print(f\"{'#'*4} - Create view silver.{table_name}\")\n",
    "    with engine.connect() as connection:\n",
    "        connection.execute(text(create_view_sql.replace(\"_spark\", \"\")))"
   ]
  },
  {
   "cell_type": "code",
   "execution_count": 5,
   "id": "2c66d549-d270-48e6-84d6-1ec522ab377c",
   "metadata": {},
   "outputs": [
    {
     "data": {
      "text/plain": [
       "DataFrame[]"
      ]
     },
     "execution_count": 5,
     "metadata": {},
     "output_type": "execute_result"
    }
   ],
   "source": [
    "# spark.sql(\"drop table silver.product1_public_customer_der\")\n",
    "# spark.sql(\"drop table silver.product1_public_customer_snp\")\n",
    "# spark.sql(\"drop view silver.product1_public_customer_spark\")"
   ]
  },
  {
   "cell_type": "markdown",
   "id": "adabef53-63ed-476e-b1ec-ce7215d1fa80",
   "metadata": {},
   "source": [
    "# read and write stream"
   ]
  },
  {
   "cell_type": "code",
   "execution_count": 4,
   "id": "0f5a6f60-c0cb-41b0-99b4-cf08bc79cfff",
   "metadata": {
    "scrolled": true
   },
   "outputs": [
    {
     "name": "stdout",
     "output_type": "stream",
     "text": [
      "## - Run streaming\n"
     ]
    },
    {
     "name": "stderr",
     "output_type": "stream",
     "text": [
      "25/09/17 09:54:05 WARN ResolveWriteToStream: spark.sql.adaptive.enabled is not supported in streaming DataFrames/Datasets and will be disabled.\n",
      "ERROR:root:KeyboardInterrupt while sending command.                             \n",
      "Traceback (most recent call last):\n",
      "  File \"/usr/local/lib/python3.10/site-packages/py4j/java_gateway.py\", line 1038, in send_command\n",
      "    response = connection.send_command(command)\n",
      "  File \"/usr/local/lib/python3.10/site-packages/py4j/clientserver.py\", line 511, in send_command\n",
      "    answer = smart_decode(self.stream.readline()[:-1])\n",
      "  File \"/usr/local/lib/python3.10/socket.py\", line 717, in readinto\n",
      "    return self._sock.recv_into(b)\n",
      "KeyboardInterrupt\n"
     ]
    },
    {
     "ename": "KeyboardInterrupt",
     "evalue": "",
     "output_type": "error",
     "traceback": [
      "\u001b[0;31m---------------------------------------------------------------------------\u001b[0m",
      "\u001b[0;31mKeyboardInterrupt\u001b[0m                         Traceback (most recent call last)",
      "Cell \u001b[0;32mIn[4], line 20\u001b[0m\n\u001b[1;32m      8\u001b[0m     \u001b[38;5;66;03m# stream_writer = (\u001b[39;00m\n\u001b[1;32m      9\u001b[0m     \u001b[38;5;66;03m#     stream_reader.writeStream\u001b[39;00m\n\u001b[1;32m     10\u001b[0m     \u001b[38;5;66;03m#     .outputMode(\"append\").format(\"console\")\u001b[39;00m\n\u001b[1;32m     11\u001b[0m     \u001b[38;5;66;03m#     .start()\u001b[39;00m\n\u001b[1;32m     12\u001b[0m     \u001b[38;5;66;03m# )\u001b[39;00m\n\u001b[1;32m     13\u001b[0m     stream_query \u001b[38;5;241m=\u001b[39m (\n\u001b[1;32m     14\u001b[0m         stream_reader\u001b[38;5;241m.\u001b[39mwriteStream\n\u001b[1;32m     15\u001b[0m         \u001b[38;5;241m.\u001b[39moutputMode(\u001b[38;5;124m\"\u001b[39m\u001b[38;5;124mappend\u001b[39m\u001b[38;5;124m\"\u001b[39m)\u001b[38;5;241m.\u001b[39mformat(\u001b[38;5;124m\"\u001b[39m\u001b[38;5;124miceberg\u001b[39m\u001b[38;5;124m\"\u001b[39m)\n\u001b[0;32m   (...)\u001b[0m\n\u001b[1;32m     18\u001b[0m         \u001b[38;5;241m.\u001b[39mtoTable(\u001b[38;5;124mf\u001b[39m\u001b[38;5;124m\"\u001b[39m\u001b[38;5;124msilver.\u001b[39m\u001b[38;5;132;01m{\u001b[39;00mbronze_table\u001b[38;5;132;01m}\u001b[39;00m\u001b[38;5;124m_der\u001b[39m\u001b[38;5;124m\"\u001b[39m)\n\u001b[1;32m     19\u001b[0m     )\n\u001b[0;32m---> 20\u001b[0m \u001b[43mspark\u001b[49m\u001b[38;5;241;43m.\u001b[39;49m\u001b[43mstreams\u001b[49m\u001b[38;5;241;43m.\u001b[39;49m\u001b[43mawaitAnyTermination\u001b[49m\u001b[43m(\u001b[49m\u001b[43m)\u001b[49m\n",
      "File \u001b[0;32m/usr/local/lib/python3.10/site-packages/pyspark/sql/streaming/query.py:535\u001b[0m, in \u001b[0;36mStreamingQueryManager.awaitAnyTermination\u001b[0;34m(self, timeout)\u001b[0m\n\u001b[1;32m    533\u001b[0m     \u001b[38;5;28;01mreturn\u001b[39;00m \u001b[38;5;28mself\u001b[39m\u001b[38;5;241m.\u001b[39m_jsqm\u001b[38;5;241m.\u001b[39mawaitAnyTermination(\u001b[38;5;28mint\u001b[39m(timeout \u001b[38;5;241m*\u001b[39m \u001b[38;5;241m1000\u001b[39m))\n\u001b[1;32m    534\u001b[0m \u001b[38;5;28;01melse\u001b[39;00m:\n\u001b[0;32m--> 535\u001b[0m     \u001b[38;5;28;01mreturn\u001b[39;00m \u001b[38;5;28;43mself\u001b[39;49m\u001b[38;5;241;43m.\u001b[39;49m\u001b[43m_jsqm\u001b[49m\u001b[38;5;241;43m.\u001b[39;49m\u001b[43mawaitAnyTermination\u001b[49m\u001b[43m(\u001b[49m\u001b[43m)\u001b[49m\n",
      "File \u001b[0;32m/usr/local/lib/python3.10/site-packages/py4j/java_gateway.py:1321\u001b[0m, in \u001b[0;36mJavaMember.__call__\u001b[0;34m(self, *args)\u001b[0m\n\u001b[1;32m   1314\u001b[0m args_command, temp_args \u001b[38;5;241m=\u001b[39m \u001b[38;5;28mself\u001b[39m\u001b[38;5;241m.\u001b[39m_build_args(\u001b[38;5;241m*\u001b[39margs)\n\u001b[1;32m   1316\u001b[0m command \u001b[38;5;241m=\u001b[39m proto\u001b[38;5;241m.\u001b[39mCALL_COMMAND_NAME \u001b[38;5;241m+\u001b[39m\\\n\u001b[1;32m   1317\u001b[0m     \u001b[38;5;28mself\u001b[39m\u001b[38;5;241m.\u001b[39mcommand_header \u001b[38;5;241m+\u001b[39m\\\n\u001b[1;32m   1318\u001b[0m     args_command \u001b[38;5;241m+\u001b[39m\\\n\u001b[1;32m   1319\u001b[0m     proto\u001b[38;5;241m.\u001b[39mEND_COMMAND_PART\n\u001b[0;32m-> 1321\u001b[0m answer \u001b[38;5;241m=\u001b[39m \u001b[38;5;28;43mself\u001b[39;49m\u001b[38;5;241;43m.\u001b[39;49m\u001b[43mgateway_client\u001b[49m\u001b[38;5;241;43m.\u001b[39;49m\u001b[43msend_command\u001b[49m\u001b[43m(\u001b[49m\u001b[43mcommand\u001b[49m\u001b[43m)\u001b[49m\n\u001b[1;32m   1322\u001b[0m return_value \u001b[38;5;241m=\u001b[39m get_return_value(\n\u001b[1;32m   1323\u001b[0m     answer, \u001b[38;5;28mself\u001b[39m\u001b[38;5;241m.\u001b[39mgateway_client, \u001b[38;5;28mself\u001b[39m\u001b[38;5;241m.\u001b[39mtarget_id, \u001b[38;5;28mself\u001b[39m\u001b[38;5;241m.\u001b[39mname)\n\u001b[1;32m   1325\u001b[0m \u001b[38;5;28;01mfor\u001b[39;00m temp_arg \u001b[38;5;129;01min\u001b[39;00m temp_args:\n",
      "File \u001b[0;32m/usr/local/lib/python3.10/site-packages/py4j/java_gateway.py:1038\u001b[0m, in \u001b[0;36mGatewayClient.send_command\u001b[0;34m(self, command, retry, binary)\u001b[0m\n\u001b[1;32m   1036\u001b[0m connection \u001b[38;5;241m=\u001b[39m \u001b[38;5;28mself\u001b[39m\u001b[38;5;241m.\u001b[39m_get_connection()\n\u001b[1;32m   1037\u001b[0m \u001b[38;5;28;01mtry\u001b[39;00m:\n\u001b[0;32m-> 1038\u001b[0m     response \u001b[38;5;241m=\u001b[39m \u001b[43mconnection\u001b[49m\u001b[38;5;241;43m.\u001b[39;49m\u001b[43msend_command\u001b[49m\u001b[43m(\u001b[49m\u001b[43mcommand\u001b[49m\u001b[43m)\u001b[49m\n\u001b[1;32m   1039\u001b[0m     \u001b[38;5;28;01mif\u001b[39;00m binary:\n\u001b[1;32m   1040\u001b[0m         \u001b[38;5;28;01mreturn\u001b[39;00m response, \u001b[38;5;28mself\u001b[39m\u001b[38;5;241m.\u001b[39m_create_connection_guard(connection)\n",
      "File \u001b[0;32m/usr/local/lib/python3.10/site-packages/py4j/clientserver.py:511\u001b[0m, in \u001b[0;36mClientServerConnection.send_command\u001b[0;34m(self, command)\u001b[0m\n\u001b[1;32m    509\u001b[0m \u001b[38;5;28;01mtry\u001b[39;00m:\n\u001b[1;32m    510\u001b[0m     \u001b[38;5;28;01mwhile\u001b[39;00m \u001b[38;5;28;01mTrue\u001b[39;00m:\n\u001b[0;32m--> 511\u001b[0m         answer \u001b[38;5;241m=\u001b[39m smart_decode(\u001b[38;5;28;43mself\u001b[39;49m\u001b[38;5;241;43m.\u001b[39;49m\u001b[43mstream\u001b[49m\u001b[38;5;241;43m.\u001b[39;49m\u001b[43mreadline\u001b[49m\u001b[43m(\u001b[49m\u001b[43m)\u001b[49m[:\u001b[38;5;241m-\u001b[39m\u001b[38;5;241m1\u001b[39m])\n\u001b[1;32m    512\u001b[0m         logger\u001b[38;5;241m.\u001b[39mdebug(\u001b[38;5;124m\"\u001b[39m\u001b[38;5;124mAnswer received: \u001b[39m\u001b[38;5;132;01m{0}\u001b[39;00m\u001b[38;5;124m\"\u001b[39m\u001b[38;5;241m.\u001b[39mformat(answer))\n\u001b[1;32m    513\u001b[0m         \u001b[38;5;66;03m# Happens when a the other end is dead. There might be an empty\u001b[39;00m\n\u001b[1;32m    514\u001b[0m         \u001b[38;5;66;03m# answer before the socket raises an error.\u001b[39;00m\n",
      "File \u001b[0;32m/usr/local/lib/python3.10/socket.py:717\u001b[0m, in \u001b[0;36mSocketIO.readinto\u001b[0;34m(self, b)\u001b[0m\n\u001b[1;32m    715\u001b[0m \u001b[38;5;28;01mwhile\u001b[39;00m \u001b[38;5;28;01mTrue\u001b[39;00m:\n\u001b[1;32m    716\u001b[0m     \u001b[38;5;28;01mtry\u001b[39;00m:\n\u001b[0;32m--> 717\u001b[0m         \u001b[38;5;28;01mreturn\u001b[39;00m \u001b[38;5;28;43mself\u001b[39;49m\u001b[38;5;241;43m.\u001b[39;49m\u001b[43m_sock\u001b[49m\u001b[38;5;241;43m.\u001b[39;49m\u001b[43mrecv_into\u001b[49m\u001b[43m(\u001b[49m\u001b[43mb\u001b[49m\u001b[43m)\u001b[49m\n\u001b[1;32m    718\u001b[0m     \u001b[38;5;28;01mexcept\u001b[39;00m timeout:\n\u001b[1;32m    719\u001b[0m         \u001b[38;5;28mself\u001b[39m\u001b[38;5;241m.\u001b[39m_timeout_occurred \u001b[38;5;241m=\u001b[39m \u001b[38;5;28;01mTrue\u001b[39;00m\n",
      "\u001b[0;31mKeyboardInterrupt\u001b[0m: "
     ]
    }
   ],
   "source": [
    "print(f\"{'#'*2} - Run streaming\")\n",
    "for bronze_table in bronze_table_list:\n",
    "    stream_reader = (\n",
    "        spark.readStream\n",
    "        .schema(spark.sql(f\"select * from bronze.{bronze_table}\").schema)\n",
    "        .parquet(f\"{warehouse_path}/bronze/topics/{bronze_table.replace('_', '.')}\")\n",
    "    )\n",
    "    # stream_writer = (\n",
    "    #     stream_reader.writeStream\n",
    "    #     .outputMode(\"append\").format(\"console\")\n",
    "    #     .start()\n",
    "    # )\n",
    "    stream_query = (\n",
    "        stream_reader.writeStream\n",
    "        .outputMode(\"append\").format(\"iceberg\")\n",
    "        .option(\"checkpointLocation\", f\"{warehouse_path}/bronze/spark_checkpoints/{bronze_table}\")\n",
    "        .trigger(processingTime=\"10 seconds\")\n",
    "        .toTable(f\"silver.{bronze_table}_der\")\n",
    "    )\n",
    "spark.streams.awaitAnyTermination()"
   ]
  },
  {
   "cell_type": "code",
   "execution_count": 5,
   "id": "3fd8474a-7aab-4634-a023-8f7003d4fed9",
   "metadata": {},
   "outputs": [
    {
     "name": "stdout",
     "output_type": "stream",
     "text": [
      "+-----------+----------+---------+----------+-------+------------+--------+---------------+-------------------+---------+----+--------+-----------------------+----------+\n",
      "|customer_id|first_name|last_name|birth_date|address|phone_number|email   |job_title      |updated_datetime   |__deleted|__op|__lsn   |__src_ts_ms            |__ds      |\n",
      "+-----------+----------+---------+----------+-------+------------+--------+---------------+-------------------+---------+----+--------+-----------------------+----------+\n",
      "|1          |Vu        |Tran     |2025-09-17|string |1           |vu.tran2|Data Engineer 1|2025-09-17 13:44:15|false    |c   |26920528|2025-09-17 06:44:15.948|2025-09-17|\n",
      "|1          |Vu        |Tran     |2025-09-17|string |2           |vu.tran2|Data Engineer 1|2025-09-17 13:45:33|false    |u   |26920912|2025-09-17 06:45:33.658|2025-09-17|\n",
      "|1          |Vu        |Tran     |2025-09-17|string |3           |vu.tran2|Data Engineer 1|2025-09-17 13:45:38|false    |u   |26921096|2025-09-17 06:45:38.231|2025-09-17|\n",
      "+-----------+----------+---------+----------+-------+------------+--------+---------------+-------------------+---------+----+--------+-----------------------+----------+\n",
      "\n"
     ]
    },
    {
     "name": "stderr",
     "output_type": "stream",
     "text": [
      "                                                                                "
     ]
    }
   ],
   "source": [
    "spark.sql(f\"select * from silver.{bronze_table}_der\").show(10, False)"
   ]
  },
  {
   "cell_type": "code",
   "execution_count": 6,
   "id": "3edbc3fa-feed-4d72-a60a-84c7aa5d9436",
   "metadata": {},
   "outputs": [
    {
     "name": "stdout",
     "output_type": "stream",
     "text": [
      "+-----------+----------+---------+----------+-------+------------+--------+---------------+-------------------+---------+----+--------+-----------------------+----------+---+\n",
      "|customer_id|first_name|last_name|birth_date|address|phone_number|email   |job_title      |updated_datetime   |__deleted|__op|__lsn   |__src_ts_ms            |__ds      |rn |\n",
      "+-----------+----------+---------+----------+-------+------------+--------+---------------+-------------------+---------+----+--------+-----------------------+----------+---+\n",
      "|1          |Vu        |Tran     |2025-09-17|string |3           |vu.tran2|Data Engineer 1|2025-09-17 13:45:38|false    |u   |26921096|2025-09-17 06:45:38.231|2025-09-17|1  |\n",
      "+-----------+----------+---------+----------+-------+------------+--------+---------------+-------------------+---------+----+--------+-----------------------+----------+---+\n",
      "\n"
     ]
    }
   ],
   "source": [
    "spark.sql(f\"select * from silver.{bronze_table}\").show(10, False)"
   ]
  },
  {
   "cell_type": "code",
   "execution_count": null,
   "id": "ee2cfb5e-caf4-4e6b-9a5a-3c86af878d22",
   "metadata": {},
   "outputs": [],
   "source": []
  }
 ],
 "metadata": {
  "kernelspec": {
   "display_name": "Python 3 (ipykernel)",
   "language": "python",
   "name": "python3"
  },
  "language_info": {
   "codemirror_mode": {
    "name": "ipython",
    "version": 3
   },
   "file_extension": ".py",
   "mimetype": "text/x-python",
   "name": "python",
   "nbconvert_exporter": "python",
   "pygments_lexer": "ipython3",
   "version": "3.10.18"
  }
 },
 "nbformat": 4,
 "nbformat_minor": 5
}

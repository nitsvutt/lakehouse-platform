{
 "cells": [
  {
   "cell_type": "markdown",
   "id": "fc577f76-fd2d-4485-964e-65ede3f67ef9",
   "metadata": {},
   "source": [
    "# init spark session"
   ]
  },
  {
   "cell_type": "code",
   "execution_count": 2,
   "id": "af0dacdc-a5f2-4cbb-ac15-04f94e237c17",
   "metadata": {},
   "outputs": [
    {
     "data": {
      "text/html": [
       "<style>pre { white-space: pre !important; }.container { width:100% !important; }</style>"
      ],
      "text/plain": [
       "<IPython.core.display.HTML object>"
      ]
     },
     "metadata": {},
     "output_type": "display_data"
    }
   ],
   "source": [
    "from IPython.core.display import HTML\n",
    "display(HTML(\"\"\"<style>pre { white-space: pre !important; }.container { width:100% !important; }</style>\"\"\"))"
   ]
  },
  {
   "cell_type": "code",
   "execution_count": 3,
   "id": "6dd2e3c0-4c45-409a-a500-cf3809a4b9b1",
   "metadata": {},
   "outputs": [
    {
     "name": "stderr",
     "output_type": "stream",
     "text": [
      "Warning: Ignoring non-Spark config property: hive.metastore.uris\n",
      "25/01/16 03:06:38 WARN NativeCodeLoader: Unable to load native-hadoop library for your platform... using builtin-java classes where applicable\n",
      "Setting default log level to \"WARN\".\n",
      "To adjust logging level use sc.setLogLevel(newLevel). For SparkR, use setLogLevel(newLevel).\n"
     ]
    }
   ],
   "source": [
    "from pyspark.sql import SparkSession\n",
    "\n",
    "spark = (\n",
    "    SparkSession.builder\n",
    "    .master(\"spark://spark-master:7077\")\n",
    "    .appName(\"staging-to-rawvault-streaming\")\n",
    "    .config(\"spark.driver.memory\", \"1g\")\n",
    "    .config(\"hive.metastore.uris\", \"thrift://hive-metastore:9083\")\n",
    "    .config(\"spark.sql.warehouse.dir\", \"hdfs://namenode:9000/user/hive/warehouse/default\")\n",
    "    .config(\"spark.jars\", \"\"\"\n",
    "        hdfs://namenode:9000/user/hive/spark_jars/iceberg-hive-runtime-1.4.3.jar,\n",
    "        hdfs://namenode:9000/user/hive/spark_jars/iceberg-spark-runtime-3.4_2.12-1.4.3.jar\n",
    "    \"\"\")\n",
    "    .config(\"spark.sql.extensions\", \"org.apache.iceberg.spark.extensions.IcebergSparkSessionExtensions\")\n",
    "    .config(\"spark.sql.catalog.spark_catalog\", \"org.apache.iceberg.spark.SparkSessionCatalog\")\n",
    "    .config(\"spark.executor.cores\", 3)\n",
    "    .config(\"spark.executor.memory\", \"6g\")\n",
    "    .config(\"spark.executor.instances\", 2)\n",
    "    .enableHiveSupport()\n",
    "    .getOrCreate()\n",
    ")"
   ]
  },
  {
   "cell_type": "markdown",
   "id": "80ad1ae5-981a-4040-9141-70a5a0af38eb",
   "metadata": {},
   "source": [
    "# create tables"
   ]
  },
  {
   "cell_type": "code",
   "execution_count": 5,
   "id": "88962f20-e9be-4158-a44c-87853c0a67d0",
   "metadata": {},
   "outputs": [
    {
     "name": "stderr",
     "output_type": "stream",
     "text": [
      "[Stage 2:>                                                          (0 + 1) / 1]\r"
     ]
    },
    {
     "name": "stdout",
     "output_type": "stream",
     "text": [
      "+-----------+----------+---------+----------+-----------------+------------+------------------+-----------------+-------------------+----+--------+-----------------------+----------+\n",
      "|customer_id|first_name|last_name|birth_date|address          |phone_number|email             |job_title        |updated_datetime   |__op|__lsn   |__src_ts_ms            |__ds      |\n",
      "+-----------+----------+---------+----------+-----------------+------------+------------------+-----------------+-------------------+----+--------+-----------------------+----------+\n",
      "|6          |Cuong     |Vo       |2001-07-07|12 ABC, MNO, XYZ |012356      |cuongvo2@gmail.com|Data Engineer    |2024-08-17 16:23:58|r   |27031720|2025-01-16 03:05:40.137|2025-01-16|\n",
      "|1          |Vu        |Tran     |2001-11-17|123 ABC, MNO, XYZ|0865937123  |nitsvutt@gmail.com|Data Engineer    |2024-11-17 17:37:11|r   |27031720|2025-01-16 03:05:40.137|2025-01-16|\n",
      "|5          |Cuong     |Vo       |2025-01-15|12 ABC, MNO, XYZ |01235       |cuongvo1@gmail.com|Data Engineer115 |2025-01-15 16:06:59|r   |27031720|2025-01-16 03:05:40.137|2025-01-16|\n",
      "|2          |The       |Duong    |2001-07-07|132 ABC, MNO, XYZ|0865937124  |theduong@gmail.com|Software Engineer|2024-08-17 15:07:12|r   |27031720|2025-01-16 03:05:40.137|2025-01-16|\n",
      "|3          |Dien      |Vo       |2001-07-07|133 ABC, MNO, XYZ|0865937134  |dienvo@gmail.com  |Data Engineer    |2024-08-17 16:00:42|r   |27031720|2025-01-16 03:05:40.137|2025-01-16|\n",
      "|4          |Cuong     |Vo       |2001-07-07|12 ABC, MNO, XYZ |01234       |cuongvo@gmail.com |Data Engineer    |2024-08-17 16:22:17|r   |27031720|2025-01-16 03:05:40.137|2025-01-16|\n",
      "+-----------+----------+---------+----------+-----------------+------------+------------------+-----------------+-------------------+----+--------+-----------------------+----------+\n",
      "\n"
     ]
    },
    {
     "name": "stderr",
     "output_type": "stream",
     "text": [
      "                                                                                \r"
     ]
    }
   ],
   "source": [
    "df = (\n",
    "        spark.read.format('parquet')\n",
    "        .options(header=True, inferSchema=True)\n",
    "        .load(\"/user/hive/warehouse/staging/topics/product1.public.customer\")\n",
    "    )\n",
    "\n",
    "df.show(10, False)"
   ]
  },
  {
   "cell_type": "code",
   "execution_count": 19,
   "id": "06c582fd-0b08-4ba8-aadc-9f8f7c1dabb6",
   "metadata": {
    "scrolled": true
   },
   "outputs": [
    {
     "name": "stdout",
     "output_type": "stream",
     "text": [
      "hdfs://namenode:9000/user/hive/warehouse/staging/topics/product1.public.customer\n"
     ]
    },
    {
     "name": "stderr",
     "output_type": "stream",
     "text": [
      "25/01/15 09:29:23 WARN SessionState: METASTORE_FILTER_HOOK will be ignored, since hive.security.authorization.manager is set to instance of HiveAuthorizerFactory.\n"
     ]
    }
   ],
   "source": [
    "import re\n",
    "from subprocess import Popen, PIPE\n",
    "\n",
    "topics_path = \"/user/hive/warehouse/staging/topics\"\n",
    "pattern = re.compile(r\"product1.public.*\")\n",
    "\n",
    "p = Popen(f\"hdfs dfs -ls {topics_path}\", shell=True, stdout=PIPE, stderr=PIPE)\n",
    "all_paths = [path.decode(\"utf-8\").split()[-1].split(\"/\")[-1] for path in p.stdout][1:]\n",
    "all_tables = [path for path in all_paths if pattern.match(path)]\n",
    "\n",
    "for table in all_tables:\n",
    "    hdfs_path = f\"hdfs://namenode:9000{topics_path}/{table}\"\n",
    "    print(hdfs_path)\n",
    "    df = (\n",
    "        spark.read.format('parquet')\n",
    "        .options(header=True, inferSchema=True)\n",
    "        .load(hdfs_path)\n",
    "    )\n",
    "    spark.sql(f\"\"\"\n",
    "        create external table if not exists staging.{table.replace(\".\", \"_\")}\n",
    "        ({', '.join([col + ' ' + dtype for col, dtype in df.dtypes])})\n",
    "        partitioned by (__ds)\n",
    "        stored as parquet\n",
    "        location \"{hdfs_path}\"\n",
    "    \"\"\")\n",
    "    spark.sql(f'repair table staging.{table.replace(\".\", \"_\")}')"
   ]
  },
  {
   "cell_type": "markdown",
   "id": "4aa7e393-24bc-48f7-b7af-20f7c7a415d3",
   "metadata": {},
   "source": [
    "# check staging"
   ]
  },
  {
   "cell_type": "code",
   "execution_count": 20,
   "id": "976ab835-9c2c-4f77-a953-6049ca08f4d1",
   "metadata": {},
   "outputs": [],
   "source": [
    "table = \"product1_public_customer\"\n",
    "staging_path = \"hdfs://namenode:9000/user/hive/warehouse/staging\""
   ]
  },
  {
   "cell_type": "code",
   "execution_count": 49,
   "id": "0f5a6f60-c0cb-41b0-99b4-cf08bc79cfff",
   "metadata": {
    "scrolled": true
   },
   "outputs": [
    {
     "name": "stderr",
     "output_type": "stream",
     "text": [
      "25/01/15 09:06:02 WARN ResolveWriteToStream: spark.sql.adaptive.enabled is not supported in streaming DataFrames/Datasets and will be disabled.\n"
     ]
    },
    {
     "name": "stdout",
     "output_type": "stream",
     "text": [
      "-------------------------------------------\n",
      "Batch: 0\n",
      "-------------------------------------------\n",
      "+-----------+----------+---------+----------+-----------------+------------+------------------+-----------------+----------------+----+--------+-------------+----------+\n",
      "|customer_id|first_name|last_name|birth_date|          address|phone_number|             email|        job_title|updated_datetime|__op|   __lsn|  __src_ts_ms|      __ds|\n",
      "+-----------+----------+---------+----------+-----------------+------------+------------------+-----------------+----------------+----+--------+-------------+----------+\n",
      "|          6|     Cuong|       Vo|     11510| 12 ABC, MNO, XYZ|      012356|cuongvo2@gmail.com|    Data Engineer|1723911838000000|   r|27023448|1736926016362|2025-01-15|\n",
      "|          1|        Vu|     Tran|     11643|123 ABC, MNO, XYZ|  0865937123|nitsvutt@gmail.com|    Data Engineer|1731865031000000|   r|27023448|1736926016362|2025-01-15|\n",
      "|          5|     Cuong|       Vo|     11510| 12 ABC, MNO, XYZ|       01235|cuongvo1@gmail.com| Data Engineer115|1736790734000000|   r|27023448|1736926016362|2025-01-15|\n",
      "|          2|       The|    Duong|     11510|132 ABC, MNO, XYZ|  0865937124|theduong@gmail.com|Software Engineer|1723907232000000|   r|27023448|1736926016362|2025-01-15|\n",
      "|          3|      Dien|       Vo|     11510|133 ABC, MNO, XYZ|  0865937134|  dienvo@gmail.com|    Data Engineer|1723910442000000|   r|27023448|1736926016362|2025-01-15|\n",
      "|          4|     Cuong|       Vo|     11510| 12 ABC, MNO, XYZ|       01234| cuongvo@gmail.com|    Data Engineer|1723911737000000|   r|27023448|1736926016362|2025-01-15|\n",
      "+-----------+----------+---------+----------+-----------------+------------+------------------+-----------------+----------------+----+--------+-------------+----------+\n",
      "\n",
      "-------------------------------------------\n",
      "Batch: 1\n",
      "-------------------------------------------\n",
      "+-----------+----------+---------+----------+----------------+------------+------------------+----------------+----------------+----+--------+-------------+----------+\n",
      "|customer_id|first_name|last_name|birth_date|         address|phone_number|             email|       job_title|updated_datetime|__op|   __lsn|  __src_ts_ms|      __ds|\n",
      "+-----------+----------+---------+----------+----------------+------------+------------------+----------------+----------------+----+--------+-------------+----------+\n",
      "|          5|     Cuong|       Vo|     20103|12 ABC, MNO, XYZ|       01235|cuongvo1@gmail.com|Data Engineer115|1736957218000000|   u|27023776|1736932018136|2025-01-15|\n",
      "|          5|     Cuong|       Vo|     20103|12 ABC, MNO, XYZ|       01235|cuongvo1@gmail.com|Data Engineer115|1736957219000000|   u|27030824|1736932019002|2025-01-15|\n",
      "|          5|     Cuong|       Vo|     20103|12 ABC, MNO, XYZ|       01235|cuongvo1@gmail.com|Data Engineer115|1736957219000000|   u|27031040|1736932019895|2025-01-15|\n",
      "+-----------+----------+---------+----------+----------------+------------+------------------+----------------+----------------+----+--------+-------------+----------+\n",
      "\n"
     ]
    },
    {
     "name": "stderr",
     "output_type": "stream",
     "text": [
      "ERROR:root:KeyboardInterrupt while sending command.\n",
      "Traceback (most recent call last):\n",
      "  File \"/usr/local/lib/python3.10/site-packages/py4j/java_gateway.py\", line 1038, in send_command\n",
      "    response = connection.send_command(command)\n",
      "  File \"/usr/local/lib/python3.10/site-packages/py4j/clientserver.py\", line 511, in send_command\n",
      "    answer = smart_decode(self.stream.readline()[:-1])\n",
      "  File \"/usr/local/lib/python3.10/socket.py\", line 705, in readinto\n",
      "    return self._sock.recv_into(b)\n",
      "KeyboardInterrupt\n"
     ]
    },
    {
     "ename": "KeyboardInterrupt",
     "evalue": "",
     "output_type": "error",
     "traceback": [
      "\u001b[0;31m---------------------------------------------------------------------------\u001b[0m",
      "\u001b[0;31mKeyboardInterrupt\u001b[0m                         Traceback (most recent call last)",
      "Cell \u001b[0;32mIn[49], line 14\u001b[0m\n\u001b[1;32m      1\u001b[0m stream_reader \u001b[38;5;241m=\u001b[39m (\n\u001b[1;32m      2\u001b[0m     spark\u001b[38;5;241m.\u001b[39mreadStream\n\u001b[1;32m      3\u001b[0m     \u001b[38;5;241m.\u001b[39mschema(spark\u001b[38;5;241m.\u001b[39msql(\u001b[38;5;124mf\u001b[39m\u001b[38;5;124m\"\u001b[39m\u001b[38;5;124mselect * from staging.\u001b[39m\u001b[38;5;132;01m{\u001b[39;00mtable\u001b[38;5;132;01m}\u001b[39;00m\u001b[38;5;124m\"\u001b[39m)\u001b[38;5;241m.\u001b[39mschema)\n\u001b[1;32m      4\u001b[0m     \u001b[38;5;241m.\u001b[39mparquet(\u001b[38;5;124mf\u001b[39m\u001b[38;5;124m\"\u001b[39m\u001b[38;5;132;01m{\u001b[39;00mstaging_path\u001b[38;5;132;01m}\u001b[39;00m\u001b[38;5;124m/topics/\u001b[39m\u001b[38;5;132;01m{\u001b[39;00mtable\u001b[38;5;241m.\u001b[39mreplace(\u001b[38;5;124m'\u001b[39m\u001b[38;5;124m_\u001b[39m\u001b[38;5;124m'\u001b[39m,\u001b[38;5;250m \u001b[39m\u001b[38;5;124m'\u001b[39m\u001b[38;5;124m.\u001b[39m\u001b[38;5;124m'\u001b[39m)\u001b[38;5;132;01m}\u001b[39;00m\u001b[38;5;124m\"\u001b[39m)\n\u001b[1;32m      5\u001b[0m )\n\u001b[1;32m      6\u001b[0m stream_writer \u001b[38;5;241m=\u001b[39m (\n\u001b[1;32m      7\u001b[0m     stream_reader\u001b[38;5;241m.\u001b[39mwriteStream\n\u001b[1;32m      8\u001b[0m     \u001b[38;5;241m.\u001b[39moutputMode(\u001b[38;5;124m\"\u001b[39m\u001b[38;5;124mappend\u001b[39m\u001b[38;5;124m\"\u001b[39m)\u001b[38;5;241m.\u001b[39mformat(\u001b[38;5;124m\"\u001b[39m\u001b[38;5;124mconsole\u001b[39m\u001b[38;5;124m\"\u001b[39m)\n\u001b[0;32m   (...)\u001b[0m\n\u001b[1;32m     11\u001b[0m     \u001b[38;5;241m.\u001b[39mstart()\n\u001b[1;32m     12\u001b[0m )\n\u001b[0;32m---> 14\u001b[0m \u001b[43mstream_writer\u001b[49m\u001b[38;5;241;43m.\u001b[39;49m\u001b[43mawaitTermination\u001b[49m\u001b[43m(\u001b[49m\u001b[43m)\u001b[49m\n",
      "File \u001b[0;32m/usr/local/lib/python3.10/site-packages/pyspark/sql/streaming/query.py:201\u001b[0m, in \u001b[0;36mStreamingQuery.awaitTermination\u001b[0;34m(self, timeout)\u001b[0m\n\u001b[1;32m    199\u001b[0m     \u001b[38;5;28;01mreturn\u001b[39;00m \u001b[38;5;28mself\u001b[39m\u001b[38;5;241m.\u001b[39m_jsq\u001b[38;5;241m.\u001b[39mawaitTermination(\u001b[38;5;28mint\u001b[39m(timeout \u001b[38;5;241m*\u001b[39m \u001b[38;5;241m1000\u001b[39m))\n\u001b[1;32m    200\u001b[0m \u001b[38;5;28;01melse\u001b[39;00m:\n\u001b[0;32m--> 201\u001b[0m     \u001b[38;5;28;01mreturn\u001b[39;00m \u001b[38;5;28;43mself\u001b[39;49m\u001b[38;5;241;43m.\u001b[39;49m\u001b[43m_jsq\u001b[49m\u001b[38;5;241;43m.\u001b[39;49m\u001b[43mawaitTermination\u001b[49m\u001b[43m(\u001b[49m\u001b[43m)\u001b[49m\n",
      "File \u001b[0;32m/usr/local/lib/python3.10/site-packages/py4j/java_gateway.py:1321\u001b[0m, in \u001b[0;36mJavaMember.__call__\u001b[0;34m(self, *args)\u001b[0m\n\u001b[1;32m   1314\u001b[0m args_command, temp_args \u001b[38;5;241m=\u001b[39m \u001b[38;5;28mself\u001b[39m\u001b[38;5;241m.\u001b[39m_build_args(\u001b[38;5;241m*\u001b[39margs)\n\u001b[1;32m   1316\u001b[0m command \u001b[38;5;241m=\u001b[39m proto\u001b[38;5;241m.\u001b[39mCALL_COMMAND_NAME \u001b[38;5;241m+\u001b[39m\\\n\u001b[1;32m   1317\u001b[0m     \u001b[38;5;28mself\u001b[39m\u001b[38;5;241m.\u001b[39mcommand_header \u001b[38;5;241m+\u001b[39m\\\n\u001b[1;32m   1318\u001b[0m     args_command \u001b[38;5;241m+\u001b[39m\\\n\u001b[1;32m   1319\u001b[0m     proto\u001b[38;5;241m.\u001b[39mEND_COMMAND_PART\n\u001b[0;32m-> 1321\u001b[0m answer \u001b[38;5;241m=\u001b[39m \u001b[38;5;28;43mself\u001b[39;49m\u001b[38;5;241;43m.\u001b[39;49m\u001b[43mgateway_client\u001b[49m\u001b[38;5;241;43m.\u001b[39;49m\u001b[43msend_command\u001b[49m\u001b[43m(\u001b[49m\u001b[43mcommand\u001b[49m\u001b[43m)\u001b[49m\n\u001b[1;32m   1322\u001b[0m return_value \u001b[38;5;241m=\u001b[39m get_return_value(\n\u001b[1;32m   1323\u001b[0m     answer, \u001b[38;5;28mself\u001b[39m\u001b[38;5;241m.\u001b[39mgateway_client, \u001b[38;5;28mself\u001b[39m\u001b[38;5;241m.\u001b[39mtarget_id, \u001b[38;5;28mself\u001b[39m\u001b[38;5;241m.\u001b[39mname)\n\u001b[1;32m   1325\u001b[0m \u001b[38;5;28;01mfor\u001b[39;00m temp_arg \u001b[38;5;129;01min\u001b[39;00m temp_args:\n",
      "File \u001b[0;32m/usr/local/lib/python3.10/site-packages/py4j/java_gateway.py:1038\u001b[0m, in \u001b[0;36mGatewayClient.send_command\u001b[0;34m(self, command, retry, binary)\u001b[0m\n\u001b[1;32m   1036\u001b[0m connection \u001b[38;5;241m=\u001b[39m \u001b[38;5;28mself\u001b[39m\u001b[38;5;241m.\u001b[39m_get_connection()\n\u001b[1;32m   1037\u001b[0m \u001b[38;5;28;01mtry\u001b[39;00m:\n\u001b[0;32m-> 1038\u001b[0m     response \u001b[38;5;241m=\u001b[39m \u001b[43mconnection\u001b[49m\u001b[38;5;241;43m.\u001b[39;49m\u001b[43msend_command\u001b[49m\u001b[43m(\u001b[49m\u001b[43mcommand\u001b[49m\u001b[43m)\u001b[49m\n\u001b[1;32m   1039\u001b[0m     \u001b[38;5;28;01mif\u001b[39;00m binary:\n\u001b[1;32m   1040\u001b[0m         \u001b[38;5;28;01mreturn\u001b[39;00m response, \u001b[38;5;28mself\u001b[39m\u001b[38;5;241m.\u001b[39m_create_connection_guard(connection)\n",
      "File \u001b[0;32m/usr/local/lib/python3.10/site-packages/py4j/clientserver.py:511\u001b[0m, in \u001b[0;36mClientServerConnection.send_command\u001b[0;34m(self, command)\u001b[0m\n\u001b[1;32m    509\u001b[0m \u001b[38;5;28;01mtry\u001b[39;00m:\n\u001b[1;32m    510\u001b[0m     \u001b[38;5;28;01mwhile\u001b[39;00m \u001b[38;5;28;01mTrue\u001b[39;00m:\n\u001b[0;32m--> 511\u001b[0m         answer \u001b[38;5;241m=\u001b[39m smart_decode(\u001b[38;5;28;43mself\u001b[39;49m\u001b[38;5;241;43m.\u001b[39;49m\u001b[43mstream\u001b[49m\u001b[38;5;241;43m.\u001b[39;49m\u001b[43mreadline\u001b[49m\u001b[43m(\u001b[49m\u001b[43m)\u001b[49m[:\u001b[38;5;241m-\u001b[39m\u001b[38;5;241m1\u001b[39m])\n\u001b[1;32m    512\u001b[0m         logger\u001b[38;5;241m.\u001b[39mdebug(\u001b[38;5;124m\"\u001b[39m\u001b[38;5;124mAnswer received: \u001b[39m\u001b[38;5;132;01m{0}\u001b[39;00m\u001b[38;5;124m\"\u001b[39m\u001b[38;5;241m.\u001b[39mformat(answer))\n\u001b[1;32m    513\u001b[0m         \u001b[38;5;66;03m# Happens when a the other end is dead. There might be an empty\u001b[39;00m\n\u001b[1;32m    514\u001b[0m         \u001b[38;5;66;03m# answer before the socket raises an error.\u001b[39;00m\n",
      "File \u001b[0;32m/usr/local/lib/python3.10/socket.py:705\u001b[0m, in \u001b[0;36mSocketIO.readinto\u001b[0;34m(self, b)\u001b[0m\n\u001b[1;32m    703\u001b[0m \u001b[38;5;28;01mwhile\u001b[39;00m \u001b[38;5;28;01mTrue\u001b[39;00m:\n\u001b[1;32m    704\u001b[0m     \u001b[38;5;28;01mtry\u001b[39;00m:\n\u001b[0;32m--> 705\u001b[0m         \u001b[38;5;28;01mreturn\u001b[39;00m \u001b[38;5;28;43mself\u001b[39;49m\u001b[38;5;241;43m.\u001b[39;49m\u001b[43m_sock\u001b[49m\u001b[38;5;241;43m.\u001b[39;49m\u001b[43mrecv_into\u001b[49m\u001b[43m(\u001b[49m\u001b[43mb\u001b[49m\u001b[43m)\u001b[49m\n\u001b[1;32m    706\u001b[0m     \u001b[38;5;28;01mexcept\u001b[39;00m timeout:\n\u001b[1;32m    707\u001b[0m         \u001b[38;5;28mself\u001b[39m\u001b[38;5;241m.\u001b[39m_timeout_occurred \u001b[38;5;241m=\u001b[39m \u001b[38;5;28;01mTrue\u001b[39;00m\n",
      "\u001b[0;31mKeyboardInterrupt\u001b[0m: "
     ]
    }
   ],
   "source": [
    "stream_reader = (\n",
    "    spark.readStream\n",
    "    .schema(spark.sql(f\"select * from staging.{table}\").schema)\n",
    "    .parquet(f\"{staging_path}/topics/{table.replace('_', '.')}\")\n",
    ")\n",
    "stream_writer = (\n",
    "    stream_reader.writeStream\n",
    "    .outputMode(\"append\").format(\"console\")\n",
    "    .option(\"checkpointLocation\", f\"{staging_path}/checkpoints/{table}\")\n",
    "    .start()\n",
    ")\n",
    "\n",
    "stream_writer.awaitTermination()"
   ]
  },
  {
   "cell_type": "code",
   "execution_count": null,
   "id": "b08bd2fd-3a99-4c9f-bd23-dad723baebdb",
   "metadata": {},
   "outputs": [],
   "source": []
  },
  {
   "cell_type": "code",
   "execution_count": null,
   "id": "349ac825-a949-4151-9fb3-468516ddbced",
   "metadata": {},
   "outputs": [],
   "source": []
  },
  {
   "cell_type": "code",
   "execution_count": null,
   "id": "698c47bd-f42f-4741-9840-37556cc51be9",
   "metadata": {},
   "outputs": [],
   "source": []
  },
  {
   "cell_type": "code",
   "execution_count": null,
   "id": "a2b19cf2-7710-4035-99dd-d6ea191c456d",
   "metadata": {},
   "outputs": [],
   "source": []
  },
  {
   "cell_type": "code",
   "execution_count": null,
   "id": "9bd7fb98-5204-4b7c-a988-5b3e6d5af077",
   "metadata": {},
   "outputs": [],
   "source": []
  },
  {
   "cell_type": "code",
   "execution_count": null,
   "id": "6b8bade9-5d0f-49f2-8f1b-107705bf16e5",
   "metadata": {},
   "outputs": [],
   "source": []
  },
  {
   "cell_type": "code",
   "execution_count": null,
   "id": "1b78a938-f26c-410b-82d4-8fd8cdd4cd2e",
   "metadata": {},
   "outputs": [],
   "source": []
  }
 ],
 "metadata": {
  "kernelspec": {
   "display_name": "Python 3 (ipykernel)",
   "language": "python",
   "name": "python3"
  },
  "language_info": {
   "codemirror_mode": {
    "name": "ipython",
    "version": 3
   },
   "file_extension": ".py",
   "mimetype": "text/x-python",
   "name": "python",
   "nbconvert_exporter": "python",
   "pygments_lexer": "ipython3",
   "version": "3.10.4"
  }
 },
 "nbformat": 4,
 "nbformat_minor": 5
}

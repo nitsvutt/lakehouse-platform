{
 "cells": [
  {
   "cell_type": "markdown",
   "id": "fc577f76-fd2d-4485-964e-65ede3f67ef9",
   "metadata": {},
   "source": [
    "# init spark session"
   ]
  },
  {
   "cell_type": "code",
   "execution_count": 1,
   "id": "af0dacdc-a5f2-4cbb-ac15-04f94e237c17",
   "metadata": {},
   "outputs": [
    {
     "data": {
      "text/html": [
       "<style>pre { white-space: pre !important; }.container { width:100% !important; }</style>"
      ],
      "text/plain": [
       "<IPython.core.display.HTML object>"
      ]
     },
     "metadata": {},
     "output_type": "display_data"
    }
   ],
   "source": [
    "from IPython.core.display import HTML\n",
    "display(HTML(\"\"\"<style>pre { white-space: pre !important; }.container { width:100% !important; }</style>\"\"\"))"
   ]
  },
  {
   "cell_type": "code",
   "execution_count": 2,
   "id": "6dd2e3c0-4c45-409a-a500-cf3809a4b9b1",
   "metadata": {
    "scrolled": true
   },
   "outputs": [
    {
     "name": "stderr",
     "output_type": "stream",
     "text": [
      "Warning: Ignoring non-Spark config property: hive.metastore.uris\n",
      "25/06/19 02:19:21 WARN NativeCodeLoader: Unable to load native-hadoop library for your platform... using builtin-java classes where applicable\n",
      "Setting default log level to \"WARN\".\n",
      "To adjust logging level use sc.setLogLevel(newLevel). For SparkR, use setLogLevel(newLevel).\n",
      "25/06/19 02:19:33 WARN TransportClientFactory: DNS resolution succeed for spark-master/172.18.0.16:7077 took 5001 ms\n",
      "----------------------------------------\n",
      "Exception occurred during processing of request from ('127.0.0.1', 48216)\n",
      "Traceback (most recent call last):\n",
      "  File \"/usr/local/lib/python3.10/socketserver.py\", line 316, in _handle_request_noblock\n",
      "    self.process_request(request, client_address)\n",
      "  File \"/usr/local/lib/python3.10/socketserver.py\", line 347, in process_request\n",
      "    self.finish_request(request, client_address)\n",
      "  File \"/usr/local/lib/python3.10/socketserver.py\", line 360, in finish_request\n",
      "    self.RequestHandlerClass(request, client_address, self)\n",
      "  File \"/usr/local/lib/python3.10/socketserver.py\", line 747, in __init__\n",
      "    self.handle()\n",
      "  File \"/usr/local/lib/python3.10/site-packages/pyspark/accumulators.py\", line 281, in handle\n",
      "    poll(accum_updates)\n",
      "  File \"/usr/local/lib/python3.10/site-packages/pyspark/accumulators.py\", line 253, in poll\n",
      "    if func():\n",
      "  File \"/usr/local/lib/python3.10/site-packages/pyspark/accumulators.py\", line 257, in accum_updates\n",
      "    num_updates = read_int(self.rfile)\n",
      "  File \"/usr/local/lib/python3.10/site-packages/pyspark/serializers.py\", line 596, in read_int\n",
      "    raise EOFError\n",
      "EOFError\n",
      "----------------------------------------\n"
     ]
    }
   ],
   "source": [
    "from pyspark.sql import SparkSession\n",
    "\n",
    "spark = (\n",
    "    SparkSession.builder\n",
    "    .master(\"spark://spark-master:7077\")\n",
    "    .appName(\"staging-to-rawvault-streaming\")\n",
    "    .config(\"spark.driver.memory\", \"1g\")\n",
    "    .config(\"hive.metastore.uris\", \"thrift://hive-metastore:9083\")\n",
    "    .config(\"spark.sql.warehouse.dir\", \"hdfs://namenode:9000/user/hive/warehouse/default\")\n",
    "    .config(\"spark.jars\", \"\"\"\n",
    "        hdfs://namenode:9000/user/hive/spark_jars/iceberg-hive-runtime-1.4.3.jar,\n",
    "        hdfs://namenode:9000/user/hive/spark_jars/iceberg-spark-runtime-3.4_2.12-1.4.3.jar\n",
    "    \"\"\")\n",
    "    .config(\"spark.sql.extensions\", \"org.apache.iceberg.spark.extensions.IcebergSparkSessionExtensions\")\n",
    "    .config(\"spark.sql.catalog.spark_catalog\", \"org.apache.iceberg.spark.SparkSessionCatalog\")\n",
    "    .config(\"spark.executor.cores\", 3)\n",
    "    .config(\"spark.executor.memory\", \"6g\")\n",
    "    .config(\"spark.executor.instances\", 1)\n",
    "    .enableHiveSupport()\n",
    "    .getOrCreate()\n",
    ")"
   ]
  },
  {
   "cell_type": "markdown",
   "id": "80ad1ae5-981a-4040-9141-70a5a0af38eb",
   "metadata": {},
   "source": [
    "# create staging tables"
   ]
  },
  {
   "cell_type": "code",
   "execution_count": 7,
   "id": "88962f20-e9be-4158-a44c-87853c0a67d0",
   "metadata": {},
   "outputs": [
    {
     "name": "stdout",
     "output_type": "stream",
     "text": [
      "+-----------+----------+----------+----------+-----------------+------------+------------------+-----------------+-------------------+----+--------+-----------------------+----------+\n",
      "|customer_id|first_name|last_name |birth_date|address          |phone_number|email             |job_title        |updated_datetime   |__op|__lsn   |__src_ts_ms            |__ds      |\n",
      "+-----------+----------+----------+----------+-----------------+------------+------------------+-----------------+-------------------+----+--------+-----------------------+----------+\n",
      "|1          |Vu        |Tran Trieu|2001-11-17|123 ABC, MNO, XYZ|0865937123  |nitsvutt@gmail.com|Data Engineer    |2025-06-18 23:14:26|u   |27033800|2025-06-18 16:14:26.994|2025-06-18|\n",
      "|1          |Vu        |Tran Trie |2001-11-17|123 ABC, MNO, XYZ|0865937123  |nitsvutt@gmail.com|Data Engineer    |2025-06-18 23:24:38|u   |27041384|2025-06-18 16:24:38.498|2025-06-18|\n",
      "|1          |Vu        |Tran Trieu|2001-11-17|123 ABC, MNO, XYZ|0865937123  |nitsvutt@gmail.com|Data Engineer    |2025-06-18 23:24:57|u   |27048952|2025-06-18 16:24:57.76 |2025-06-18|\n",
      "|6          |Cuong     |Vo        |2001-07-07|12 ABC, MNO, XYZ |012356      |cuongvo2@gmail.com|Data Engineer    |2024-08-17 16:23:58|r   |27032456|2025-06-18 14:37:21.557|2025-06-18|\n",
      "|1          |Vu        |Tran      |2001-11-17|123 ABC, MNO, XYZ|0865937123  |nitsvutt@gmail.com|Data Engineer    |2024-11-17 17:37:11|r   |27032456|2025-06-18 14:37:21.557|2025-06-18|\n",
      "|5          |Cuong     |Vo        |2025-01-15|12 ABC, MNO, XYZ |01235       |cuongvo1@gmail.com|Data Engineer115 |2025-01-15 16:06:59|r   |27032456|2025-06-18 14:37:21.557|2025-06-18|\n",
      "|2          |The       |Duong     |2001-07-07|132 ABC, MNO, XYZ|0865937124  |theduong@gmail.com|Software Engineer|2024-08-17 15:07:12|r   |27032456|2025-06-18 14:37:21.557|2025-06-18|\n",
      "|3          |Dien      |Vo        |2001-07-07|133 ABC, MNO, XYZ|0865937134  |dienvo@gmail.com  |Data Engineer    |2024-08-17 16:00:42|r   |27032456|2025-06-18 14:37:21.557|2025-06-18|\n",
      "|4          |Cuong     |Vo        |2001-07-07|12 ABC, MNO, XYZ |01234       |cuongvo@gmail.com |Data Engineer    |2024-08-17 16:22:17|r   |27032456|2025-06-18 14:37:21.557|2025-06-18|\n",
      "+-----------+----------+----------+----------+-----------------+------------+------------------+-----------------+-------------------+----+--------+-----------------------+----------+\n",
      "\n"
     ]
    }
   ],
   "source": [
    "df = (\n",
    "        spark.read.format('parquet')\n",
    "        .options(header=True, inferSchema=True)\n",
    "        .load(\"/user/hive/warehouse/staging/topics/product1.public.customer\")\n",
    "    )\n",
    "\n",
    "df.show(10, False)"
   ]
  },
  {
   "cell_type": "code",
   "execution_count": 4,
   "id": "06c582fd-0b08-4ba8-aadc-9f8f7c1dabb6",
   "metadata": {
    "scrolled": true
   },
   "outputs": [],
   "source": [
    "import re\n",
    "from subprocess import Popen, PIPE\n",
    "\n",
    "topics_path = \"/user/hive/warehouse/staging/topics\"\n",
    "pattern = re.compile(r\"product1.public.*\")\n",
    "\n",
    "p = Popen(f\"hdfs dfs -ls {topics_path}\", shell=True, stdout=PIPE, stderr=PIPE)\n",
    "all_paths = [path.decode(\"utf-8\").split()[-1].split(\"/\")[-1] for path in p.stdout][1:]\n",
    "all_tables = [path for path in all_paths if pattern.match(path)]\n",
    "\n",
    "for table in all_tables:\n",
    "    hdfs_path = f\"hdfs://namenode:9000{topics_path}/{table}\"\n",
    "    table_name = table.replace(\".\", \"_\")\n",
    "    df = (\n",
    "        spark.read.format('parquet')\n",
    "        .options(header=True, inferSchema=True)\n",
    "        .load(hdfs_path)\n",
    "    )\n",
    "    if spark.sql(f\"show tables from staging like '{table_name}'\").isEmpty():\n",
    "        print(table_name)\n",
    "        spark.sql(f\"\"\"\n",
    "            create external table if not exists staging.{table_name}\n",
    "            ({', '.join([col + ' ' + dtype for col, dtype in df.dtypes])})\n",
    "            partitioned by (__ds)\n",
    "            stored as parquet\n",
    "            location \"{hdfs_path}\"\n",
    "        \"\"\")\n",
    "        spark.sql(f'repair table staging.{table_name}')"
   ]
  },
  {
   "cell_type": "code",
   "execution_count": 5,
   "id": "832e9476-bcb6-4792-90e0-6fe7ca58ed11",
   "metadata": {},
   "outputs": [
    {
     "name": "stdout",
     "output_type": "stream",
     "text": [
      "+-----------+----------+---------+----------+-----------------+------------+------------------+-----------------+-------------------+----+--------+-----------------------+----------+\n",
      "|customer_id|first_name|last_name|birth_date|address          |phone_number|email             |job_title        |updated_datetime   |__op|__lsn   |__src_ts_ms            |__ds      |\n",
      "+-----------+----------+---------+----------+-----------------+------------+------------------+-----------------+-------------------+----+--------+-----------------------+----------+\n",
      "|6          |Cuong     |Vo       |2001-07-07|12 ABC, MNO, XYZ |012356      |cuongvo2@gmail.com|Data Engineer    |2024-08-17 16:23:58|r   |27032456|2025-06-18 14:37:21.557|2025-06-18|\n",
      "|1          |Vu        |Tran     |2001-11-17|123 ABC, MNO, XYZ|0865937123  |nitsvutt@gmail.com|Data Engineer    |2024-11-17 17:37:11|r   |27032456|2025-06-18 14:37:21.557|2025-06-18|\n",
      "|5          |Cuong     |Vo       |2025-01-15|12 ABC, MNO, XYZ |01235       |cuongvo1@gmail.com|Data Engineer115 |2025-01-15 16:06:59|r   |27032456|2025-06-18 14:37:21.557|2025-06-18|\n",
      "|2          |The       |Duong    |2001-07-07|132 ABC, MNO, XYZ|0865937124  |theduong@gmail.com|Software Engineer|2024-08-17 15:07:12|r   |27032456|2025-06-18 14:37:21.557|2025-06-18|\n",
      "|3          |Dien      |Vo       |2001-07-07|133 ABC, MNO, XYZ|0865937134  |dienvo@gmail.com  |Data Engineer    |2024-08-17 16:00:42|r   |27032456|2025-06-18 14:37:21.557|2025-06-18|\n",
      "|4          |Cuong     |Vo       |2001-07-07|12 ABC, MNO, XYZ |01234       |cuongvo@gmail.com |Data Engineer    |2024-08-17 16:22:17|r   |27032456|2025-06-18 14:37:21.557|2025-06-18|\n",
      "+-----------+----------+---------+----------+-----------------+------------+------------------+-----------------+-------------------+----+--------+-----------------------+----------+\n",
      "\n"
     ]
    }
   ],
   "source": [
    "spark.sql(\"select * from staging.product1_public_customer\").show(10, False)"
   ]
  },
  {
   "cell_type": "markdown",
   "id": "4aa7e393-24bc-48f7-b7af-20f7c7a415d3",
   "metadata": {},
   "source": [
    "# create rawvault tables"
   ]
  },
  {
   "cell_type": "code",
   "execution_count": 3,
   "id": "6eb5ddc4-467a-430a-a1e1-16bb17661f7f",
   "metadata": {},
   "outputs": [
    {
     "name": "stderr",
     "output_type": "stream",
     "text": [
      "                                                                                \r"
     ]
    },
    {
     "data": {
      "text/plain": [
       "[]"
      ]
     },
     "execution_count": 3,
     "metadata": {},
     "output_type": "execute_result"
    }
   ],
   "source": [
    "staging_table_list = (\n",
    "    spark.sql(\"show tables from staging like 'product1_public_*'\")\n",
    "        .select(\"tableName\")\n",
    "        .rdd.flatMap(lambda x: x).collect()\n",
    ")\n",
    "rawvault_table_list = (\n",
    "    spark.sql(\"show tables from rawvault like 'product1_public_*'\")\n",
    "        .select(\"tableName\")\n",
    "        .rdd.flatMap(lambda x: x).collect()\n",
    ")\n",
    "new_tables = list(set(staging_table_list) - set(rawvault_table_list))\n",
    "new_tables"
   ]
  },
  {
   "cell_type": "code",
   "execution_count": 7,
   "id": "d2fe0e71-5c57-430c-88bd-9ec9fbc929c7",
   "metadata": {
    "scrolled": true
   },
   "outputs": [],
   "source": [
    "for table in new_tables:\n",
    "    tables = {\"derived\": f\"{table}_der\", \"snapshot\": f\"{table}_snp\", \"main\": table}\n",
    "    for table_type, table_name in tables.items():\n",
    "        print(table_name)\n",
    "        df = spark.sql(f\"select * from staging.{tables['main']}\")\n",
    "        spark.sql(f\"\"\"\n",
    "        create external table if not exists rawvault.{table_name}\n",
    "        ({', '.join([col + ' ' + dtype for col, dtype in df.dtypes])})\n",
    "        using iceberg\n",
    "        {'partitioned by (days(updated_datetime))' if table_type == 'main' else ''}\n",
    "        location 'hdfs://namenode:9000/user/hive/warehouse/rawvault'\n",
    "        tblproperties(\n",
    "            'objcapabilities'='extread,extwrite',\n",
    "            'engine.hive.enabled'='true',\n",
    "            'write.delete.mode'='copy-on-write',\n",
    "            'write.update.mode'='copy-on-write',\n",
    "            'write.merge.mode'='copy-on-write',\n",
    "            'external.table.purge'='true',\n",
    "            'iceberg.file_format'='parquet',\n",
    "            'format-version'='2',\n",
    "            'read.parquet.vectorization.batch-size'='10000',\n",
    "            'read.parquet.vectorization.enabled'='false'\n",
    "        )\n",
    "        \"\"\")"
   ]
  },
  {
   "cell_type": "markdown",
   "id": "adabef53-63ed-476e-b1ec-ce7215d1fa80",
   "metadata": {},
   "source": [
    "# read and write stream"
   ]
  },
  {
   "cell_type": "code",
   "execution_count": 4,
   "id": "0f5a6f60-c0cb-41b0-99b4-cf08bc79cfff",
   "metadata": {
    "scrolled": true
   },
   "outputs": [
    {
     "name": "stderr",
     "output_type": "stream",
     "text": [
      "25/06/18 16:39:25 WARN ResolveWriteToStream: spark.sql.adaptive.enabled is not supported in streaming DataFrames/Datasets and will be disabled.\n",
      "25/06/18 16:39:25 WARN ResolveWriteToStream: spark.sql.adaptive.enabled is not supported in streaming DataFrames/Datasets and will be disabled.\n",
      "ERROR:root:KeyboardInterrupt while sending command.                             \n",
      "Traceback (most recent call last):\n",
      "  File \"/usr/local/lib/python3.10/site-packages/py4j/java_gateway.py\", line 1038, in send_command\n",
      "    response = connection.send_command(command)\n",
      "  File \"/usr/local/lib/python3.10/site-packages/py4j/clientserver.py\", line 511, in send_command\n",
      "    answer = smart_decode(self.stream.readline()[:-1])\n",
      "  File \"/usr/local/lib/python3.10/socket.py\", line 705, in readinto\n",
      "    return self._sock.recv_into(b)\n",
      "KeyboardInterrupt\n"
     ]
    },
    {
     "ename": "KeyboardInterrupt",
     "evalue": "",
     "output_type": "error",
     "traceback": [
      "\u001b[0;31m---------------------------------------------------------------------------\u001b[0m",
      "\u001b[0;31mKeyboardInterrupt\u001b[0m                         Traceback (most recent call last)",
      "Cell \u001b[0;32mIn[4], line 16\u001b[0m\n\u001b[1;32m      8\u001b[0m     stream_query \u001b[38;5;241m=\u001b[39m (\n\u001b[1;32m      9\u001b[0m         stream_reader\u001b[38;5;241m.\u001b[39mwriteStream\n\u001b[1;32m     10\u001b[0m         \u001b[38;5;241m.\u001b[39moutputMode(\u001b[38;5;124m\"\u001b[39m\u001b[38;5;124mappend\u001b[39m\u001b[38;5;124m\"\u001b[39m)\u001b[38;5;241m.\u001b[39mformat(\u001b[38;5;124m\"\u001b[39m\u001b[38;5;124miceberg\u001b[39m\u001b[38;5;124m\"\u001b[39m)\n\u001b[0;32m   (...)\u001b[0m\n\u001b[1;32m     13\u001b[0m         \u001b[38;5;241m.\u001b[39mtoTable(\u001b[38;5;124mf\u001b[39m\u001b[38;5;124m\"\u001b[39m\u001b[38;5;124mrawvault.\u001b[39m\u001b[38;5;132;01m{\u001b[39;00mstaging_table\u001b[38;5;132;01m}\u001b[39;00m\u001b[38;5;124m_der\u001b[39m\u001b[38;5;124m\"\u001b[39m)\n\u001b[1;32m     14\u001b[0m     )\n\u001b[1;32m     15\u001b[0m     \u001b[38;5;66;03m# stream_query.awaitTermination()\u001b[39;00m\n\u001b[0;32m---> 16\u001b[0m \u001b[43mspark\u001b[49m\u001b[38;5;241;43m.\u001b[39;49m\u001b[43mstreams\u001b[49m\u001b[38;5;241;43m.\u001b[39;49m\u001b[43mawaitAnyTermination\u001b[49m\u001b[43m(\u001b[49m\u001b[43m)\u001b[49m\n",
      "File \u001b[0;32m/usr/local/lib/python3.10/site-packages/pyspark/sql/streaming/query.py:535\u001b[0m, in \u001b[0;36mStreamingQueryManager.awaitAnyTermination\u001b[0;34m(self, timeout)\u001b[0m\n\u001b[1;32m    533\u001b[0m     \u001b[38;5;28;01mreturn\u001b[39;00m \u001b[38;5;28mself\u001b[39m\u001b[38;5;241m.\u001b[39m_jsqm\u001b[38;5;241m.\u001b[39mawaitAnyTermination(\u001b[38;5;28mint\u001b[39m(timeout \u001b[38;5;241m*\u001b[39m \u001b[38;5;241m1000\u001b[39m))\n\u001b[1;32m    534\u001b[0m \u001b[38;5;28;01melse\u001b[39;00m:\n\u001b[0;32m--> 535\u001b[0m     \u001b[38;5;28;01mreturn\u001b[39;00m \u001b[38;5;28;43mself\u001b[39;49m\u001b[38;5;241;43m.\u001b[39;49m\u001b[43m_jsqm\u001b[49m\u001b[38;5;241;43m.\u001b[39;49m\u001b[43mawaitAnyTermination\u001b[49m\u001b[43m(\u001b[49m\u001b[43m)\u001b[49m\n",
      "File \u001b[0;32m/usr/local/lib/python3.10/site-packages/py4j/java_gateway.py:1321\u001b[0m, in \u001b[0;36mJavaMember.__call__\u001b[0;34m(self, *args)\u001b[0m\n\u001b[1;32m   1314\u001b[0m args_command, temp_args \u001b[38;5;241m=\u001b[39m \u001b[38;5;28mself\u001b[39m\u001b[38;5;241m.\u001b[39m_build_args(\u001b[38;5;241m*\u001b[39margs)\n\u001b[1;32m   1316\u001b[0m command \u001b[38;5;241m=\u001b[39m proto\u001b[38;5;241m.\u001b[39mCALL_COMMAND_NAME \u001b[38;5;241m+\u001b[39m\\\n\u001b[1;32m   1317\u001b[0m     \u001b[38;5;28mself\u001b[39m\u001b[38;5;241m.\u001b[39mcommand_header \u001b[38;5;241m+\u001b[39m\\\n\u001b[1;32m   1318\u001b[0m     args_command \u001b[38;5;241m+\u001b[39m\\\n\u001b[1;32m   1319\u001b[0m     proto\u001b[38;5;241m.\u001b[39mEND_COMMAND_PART\n\u001b[0;32m-> 1321\u001b[0m answer \u001b[38;5;241m=\u001b[39m \u001b[38;5;28;43mself\u001b[39;49m\u001b[38;5;241;43m.\u001b[39;49m\u001b[43mgateway_client\u001b[49m\u001b[38;5;241;43m.\u001b[39;49m\u001b[43msend_command\u001b[49m\u001b[43m(\u001b[49m\u001b[43mcommand\u001b[49m\u001b[43m)\u001b[49m\n\u001b[1;32m   1322\u001b[0m return_value \u001b[38;5;241m=\u001b[39m get_return_value(\n\u001b[1;32m   1323\u001b[0m     answer, \u001b[38;5;28mself\u001b[39m\u001b[38;5;241m.\u001b[39mgateway_client, \u001b[38;5;28mself\u001b[39m\u001b[38;5;241m.\u001b[39mtarget_id, \u001b[38;5;28mself\u001b[39m\u001b[38;5;241m.\u001b[39mname)\n\u001b[1;32m   1325\u001b[0m \u001b[38;5;28;01mfor\u001b[39;00m temp_arg \u001b[38;5;129;01min\u001b[39;00m temp_args:\n",
      "File \u001b[0;32m/usr/local/lib/python3.10/site-packages/py4j/java_gateway.py:1038\u001b[0m, in \u001b[0;36mGatewayClient.send_command\u001b[0;34m(self, command, retry, binary)\u001b[0m\n\u001b[1;32m   1036\u001b[0m connection \u001b[38;5;241m=\u001b[39m \u001b[38;5;28mself\u001b[39m\u001b[38;5;241m.\u001b[39m_get_connection()\n\u001b[1;32m   1037\u001b[0m \u001b[38;5;28;01mtry\u001b[39;00m:\n\u001b[0;32m-> 1038\u001b[0m     response \u001b[38;5;241m=\u001b[39m \u001b[43mconnection\u001b[49m\u001b[38;5;241;43m.\u001b[39;49m\u001b[43msend_command\u001b[49m\u001b[43m(\u001b[49m\u001b[43mcommand\u001b[49m\u001b[43m)\u001b[49m\n\u001b[1;32m   1039\u001b[0m     \u001b[38;5;28;01mif\u001b[39;00m binary:\n\u001b[1;32m   1040\u001b[0m         \u001b[38;5;28;01mreturn\u001b[39;00m response, \u001b[38;5;28mself\u001b[39m\u001b[38;5;241m.\u001b[39m_create_connection_guard(connection)\n",
      "File \u001b[0;32m/usr/local/lib/python3.10/site-packages/py4j/clientserver.py:511\u001b[0m, in \u001b[0;36mClientServerConnection.send_command\u001b[0;34m(self, command)\u001b[0m\n\u001b[1;32m    509\u001b[0m \u001b[38;5;28;01mtry\u001b[39;00m:\n\u001b[1;32m    510\u001b[0m     \u001b[38;5;28;01mwhile\u001b[39;00m \u001b[38;5;28;01mTrue\u001b[39;00m:\n\u001b[0;32m--> 511\u001b[0m         answer \u001b[38;5;241m=\u001b[39m smart_decode(\u001b[38;5;28;43mself\u001b[39;49m\u001b[38;5;241;43m.\u001b[39;49m\u001b[43mstream\u001b[49m\u001b[38;5;241;43m.\u001b[39;49m\u001b[43mreadline\u001b[49m\u001b[43m(\u001b[49m\u001b[43m)\u001b[49m[:\u001b[38;5;241m-\u001b[39m\u001b[38;5;241m1\u001b[39m])\n\u001b[1;32m    512\u001b[0m         logger\u001b[38;5;241m.\u001b[39mdebug(\u001b[38;5;124m\"\u001b[39m\u001b[38;5;124mAnswer received: \u001b[39m\u001b[38;5;132;01m{0}\u001b[39;00m\u001b[38;5;124m\"\u001b[39m\u001b[38;5;241m.\u001b[39mformat(answer))\n\u001b[1;32m    513\u001b[0m         \u001b[38;5;66;03m# Happens when a the other end is dead. There might be an empty\u001b[39;00m\n\u001b[1;32m    514\u001b[0m         \u001b[38;5;66;03m# answer before the socket raises an error.\u001b[39;00m\n",
      "File \u001b[0;32m/usr/local/lib/python3.10/socket.py:705\u001b[0m, in \u001b[0;36mSocketIO.readinto\u001b[0;34m(self, b)\u001b[0m\n\u001b[1;32m    703\u001b[0m \u001b[38;5;28;01mwhile\u001b[39;00m \u001b[38;5;28;01mTrue\u001b[39;00m:\n\u001b[1;32m    704\u001b[0m     \u001b[38;5;28;01mtry\u001b[39;00m:\n\u001b[0;32m--> 705\u001b[0m         \u001b[38;5;28;01mreturn\u001b[39;00m \u001b[38;5;28;43mself\u001b[39;49m\u001b[38;5;241;43m.\u001b[39;49m\u001b[43m_sock\u001b[49m\u001b[38;5;241;43m.\u001b[39;49m\u001b[43mrecv_into\u001b[49m\u001b[43m(\u001b[49m\u001b[43mb\u001b[49m\u001b[43m)\u001b[49m\n\u001b[1;32m    706\u001b[0m     \u001b[38;5;28;01mexcept\u001b[39;00m timeout:\n\u001b[1;32m    707\u001b[0m         \u001b[38;5;28mself\u001b[39m\u001b[38;5;241m.\u001b[39m_timeout_occurred \u001b[38;5;241m=\u001b[39m \u001b[38;5;28;01mTrue\u001b[39;00m\n",
      "\u001b[0;31mKeyboardInterrupt\u001b[0m: "
     ]
    }
   ],
   "source": [
    "staging_path = \"hdfs://namenode:9000/user/hive/warehouse/staging\"\n",
    "for staging_table in staging_table_list:\n",
    "    stream_reader = (\n",
    "        spark.readStream\n",
    "        .schema(spark.sql(f\"select * from staging.{staging_table}\").schema)\n",
    "        .parquet(f\"{staging_path}/topics/{staging_table.replace('_', '.')}\")\n",
    "    )\n",
    "    stream_query = (\n",
    "        stream_reader.writeStream\n",
    "        .outputMode(\"append\").format(\"iceberg\")\n",
    "        .option(\"checkpointLocation\", f\"{staging_path}/checkpoints/{staging_table}\")\n",
    "        .trigger(processingTime=\"10 seconds\")\n",
    "        .toTable(f\"rawvault.{staging_table}_der\")\n",
    "    )\n",
    "spark.streams.awaitAnyTermination()"
   ]
  },
  {
   "cell_type": "code",
   "execution_count": 46,
   "id": "68d63de9-d872-4481-85d2-b772394f9340",
   "metadata": {},
   "outputs": [
    {
     "name": "stdout",
     "output_type": "stream",
     "text": [
      "+----------+-------------------+---------+--------------+-----------+-------------+-------------------+----+--------+-----------------------+----------+\n",
      "|service_id|name               |price    |image         |active_date|inactive_date|updated_datetime   |__op|__lsn   |__src_ts_ms            |__ds      |\n",
      "+----------+-------------------+---------+--------------+-----------+-------------+-------------------+----+--------+-----------------------+----------+\n",
      "|12        |Electrocity check 2|123.00000|abc/xyz/ec.png|2025-06-18 |2027-06-18   |2025-06-19 14:47:50|c   |27090704|2025-06-19 07:47:50.115|2025-06-19|\n",
      "|12        |Electrocity check 2|300.00000|abc/xyz/ec.png|2025-06-18 |2027-06-18   |2025-06-19 14:47:58|u   |27094400|2025-06-19 07:47:58.449|2025-06-19|\n",
      "|1         |House Keeping      |123.45600|string        |2024-08-17 |9999-01-01   |2024-08-17 14:43:01|r   |27090504|2025-06-19 07:46:48.749|2025-06-19|\n",
      "|2         |Office for lease   |301.00000|string        |2024-08-17 |9999-01-01   |2025-06-19 14:16:33|r   |27090504|2025-06-19 07:46:48.749|2025-06-19|\n",
      "|10        |Electrocity check  |300.00000|abc/xyz/ec.png|2025-06-18 |2027-06-18   |2025-06-19 14:25:15|r   |27090504|2025-06-19 07:46:48.749|2025-06-19|\n",
      "+----------+-------------------+---------+--------------+-----------+-------------+-------------------+----+--------+-----------------------+----------+\n",
      "\n"
     ]
    },
    {
     "name": "stderr",
     "output_type": "stream",
     "text": [
      "25/06/19 07:53:52 ERROR TaskSchedulerImpl: Lost executor 2 on 172.18.0.17: worker lost\n",
      "25/06/19 07:53:52 ERROR TaskSchedulerImpl: Lost executor 3 on 172.18.0.17: worker lost\n",
      "25/06/19 07:54:02 WARN StandaloneAppClient$ClientEndpoint: Connection to spark-master:7077 failed; waiting for master to reconnect...\n",
      "25/06/19 07:54:02 WARN StandaloneSchedulerBackend: Disconnected from Spark cluster! Waiting for reconnection...\n",
      "25/06/19 07:54:02 WARN StandaloneAppClient$ClientEndpoint: Connection to spark-master:7077 failed; waiting for master to reconnect...\n"
     ]
    }
   ],
   "source": [
    "df = (\n",
    "        spark.read.format('parquet')\n",
    "        .options(header=True, inferSchema=True)\n",
    "        .load(\"/user/hive/warehouse/staging/topics/product1.public.service\")\n",
    "    )\n",
    "\n",
    "df.show(20, False)"
   ]
  },
  {
   "cell_type": "code",
   "execution_count": 19,
   "id": "a2b19cf2-7710-4035-99dd-d6ea191c456d",
   "metadata": {},
   "outputs": [
    {
     "name": "stdout",
     "output_type": "stream",
     "text": [
      "+----------+-----------------+----------+---------------+-----------+-------------+-------------------+----+--------+-----------------------+----------+\n",
      "|service_id|name             |price     |image          |active_date|inactive_date|updated_datetime   |__op|__lsn   |__src_ts_ms            |__ds      |\n",
      "+----------+-----------------+----------+---------------+-----------+-------------+-------------------+----+--------+-----------------------+----------+\n",
      "|4         |Electrocity check|123.00000 |abc/xyz/ec.png |2025-06-18 |2027-06-18   |2025-06-18 23:41:08|c   |27051912|2025-06-18 16:41:08.902|2025-06-18|\n",
      "|4         |Electrocity check|124.00000 |abc/xyz/ec.png |2025-06-18 |2027-06-18   |2025-06-18 23:41:53|u   |27052688|2025-06-18 16:41:53.729|2025-06-18|\n",
      "|3         |Cleaning         |124.00000 |abc/xyz/mno.png|2025-06-18 |2026-06-18   |2025-06-18 23:44:33|u   |27053280|2025-06-18 16:44:33.207|2025-06-18|\n",
      "|1         |House Keeping    |123.45600 |string         |2024-08-17 |9999-01-01   |2024-08-17 14:43:01|r   |27032456|2025-06-18 14:37:21.557|2025-06-18|\n",
      "|2         |Office for lease |1233.45600|string         |2024-08-17 |9999-01-01   |2024-08-17 15:55:43|r   |27032456|2025-06-18 14:37:21.557|2025-06-18|\n",
      "|3         |Cleaning         |0.00000   |abc/xyz/mno.png|2025-06-18 |2026-06-18   |2025-06-18 21:55:37|c   |27032888|2025-06-18 14:55:37.905|2025-06-18|\n",
      "+----------+-----------------+----------+---------------+-----------+-------------+-------------------+----+--------+-----------------------+----------+\n",
      "\n"
     ]
    }
   ],
   "source": [
    "spark.sql(\"select * from rawvault.product1_public_service\").show(10, False)"
   ]
  },
  {
   "cell_type": "code",
   "execution_count": null,
   "id": "1b78a938-f26c-410b-82d4-8fd8cdd4cd2e",
   "metadata": {},
   "outputs": [],
   "source": []
  }
 ],
 "metadata": {
  "kernelspec": {
   "display_name": "Python 3 (ipykernel)",
   "language": "python",
   "name": "python3"
  },
  "language_info": {
   "codemirror_mode": {
    "name": "ipython",
    "version": 3
   },
   "file_extension": ".py",
   "mimetype": "text/x-python",
   "name": "python",
   "nbconvert_exporter": "python",
   "pygments_lexer": "ipython3",
   "version": "3.10.4"
  }
 },
 "nbformat": 4,
 "nbformat_minor": 5
}

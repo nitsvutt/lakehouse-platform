{
 "cells": [
  {
   "cell_type": "markdown",
   "id": "fc577f76-fd2d-4485-964e-65ede3f67ef9",
   "metadata": {},
   "source": [
    "# init spark session"
   ]
  },
  {
   "cell_type": "code",
   "execution_count": 1,
   "id": "af0dacdc-a5f2-4cbb-ac15-04f94e237c17",
   "metadata": {},
   "outputs": [
    {
     "data": {
      "text/html": [
       "<style>pre { white-space: pre !important; }.container { width:100% !important; }</style>"
      ],
      "text/plain": [
       "<IPython.core.display.HTML object>"
      ]
     },
     "metadata": {},
     "output_type": "display_data"
    }
   ],
   "source": [
    "from IPython.core.display import HTML\n",
    "display(HTML(\"\"\"<style>pre { white-space: pre !important; }.container { width:100% !important; }</style>\"\"\"))"
   ]
  },
  {
   "cell_type": "code",
   "execution_count": 2,
   "id": "6dd2e3c0-4c45-409a-a500-cf3809a4b9b1",
   "metadata": {
    "scrolled": true
   },
   "outputs": [
    {
     "name": "stderr",
     "output_type": "stream",
     "text": [
      "Warning: Ignoring non-Spark config property: hive.metastore.uris\n",
      "25/06/22 06:06:13 WARN NativeCodeLoader: Unable to load native-hadoop library for your platform... using builtin-java classes where applicable\n",
      "Setting default log level to \"WARN\".\n",
      "To adjust logging level use sc.setLogLevel(newLevel). For SparkR, use setLogLevel(newLevel).\n",
      "25/06/22 06:06:20 WARN Client: Neither spark.yarn.jars nor spark.yarn.archive is set, falling back to uploading libraries under SPARK_HOME.\n"
     ]
    }
   ],
   "source": [
    "from pyspark.sql import SparkSession\n",
    "\n",
    "spark = (\n",
    "    SparkSession.builder\n",
    "    .master(\"yarn\")\n",
    "    .appName(\"staging-to-rawvault-streaming\")\n",
    "    .config(\"spark.driver.memory\", \"1g\")\n",
    "    .config(\"hive.metastore.uris\", \"thrift://hive-metastore:9083\")\n",
    "    .config(\"spark.sql.warehouse.dir\", \"hdfs://yarn-master:9000/user/hive/warehouse/default\")\n",
    "    .config(\"spark.jars\", \"\"\"\n",
    "        hdfs://yarn-master:9000/user/hive/spark_jars/iceberg-hive-runtime-1.4.3.jar,\n",
    "        hdfs://yarn-master:9000/user/hive/spark_jars/iceberg-spark-runtime-3.4_2.12-1.4.3.jar\n",
    "    \"\"\")\n",
    "    .config(\"spark.sql.extensions\", \"org.apache.iceberg.spark.extensions.IcebergSparkSessionExtensions\")\n",
    "    .config(\"spark.sql.catalog.spark_catalog\", \"org.apache.iceberg.spark.SparkSessionCatalog\")\n",
    "    .config(\"spark.executor.cores\", 3)\n",
    "    .config(\"spark.executor.memory\", \"6g\")\n",
    "    .config(\"spark.executor.instances\", 1)\n",
    "    .enableHiveSupport()\n",
    "    .getOrCreate()\n",
    ")\n",
    "\n",
    "staging_path = \"/user/hive/warehouse/staging\"\n",
    "data_source = \"product1.public\""
   ]
  },
  {
   "cell_type": "code",
   "execution_count": 13,
   "id": "46f287f1-8121-46c3-a387-03b974068aba",
   "metadata": {},
   "outputs": [
    {
     "name": "stdout",
     "output_type": "stream",
     "text": [
      "+---------+---------+-----------+\n",
      "|namespace|tableName|isTemporary|\n",
      "+---------+---------+-----------+\n",
      "|staging  |test_hive|false      |\n",
      "+---------+---------+-----------+\n",
      "\n"
     ]
    }
   ],
   "source": [
    "spark.sql(\"show tables from staging\").show(10, False)"
   ]
  },
  {
   "cell_type": "code",
   "execution_count": 14,
   "id": "9dc860bf-6127-41d1-83d8-d71b4f6b9bfb",
   "metadata": {},
   "outputs": [
    {
     "name": "stdout",
     "output_type": "stream",
     "text": [
      "+---------+----------------------------+-----------+\n",
      "|namespace|tableName                   |isTemporary|\n",
      "+---------+----------------------------+-----------+\n",
      "|rawvault |product1_public_customer_der|false      |\n",
      "|rawvault |test_iceberg                |false      |\n",
      "+---------+----------------------------+-----------+\n",
      "\n"
     ]
    }
   ],
   "source": [
    "spark.sql(\"show tables from rawvault\").show(10, False)"
   ]
  },
  {
   "cell_type": "markdown",
   "id": "80ad1ae5-981a-4040-9141-70a5a0af38eb",
   "metadata": {},
   "source": [
    "# create new staging tables"
   ]
  },
  {
   "cell_type": "code",
   "execution_count": 16,
   "id": "06c582fd-0b08-4ba8-aadc-9f8f7c1dabb6",
   "metadata": {
    "scrolled": true
   },
   "outputs": [
    {
     "name": "stdout",
     "output_type": "stream",
     "text": [
      "## all_tables=['product1.public.customer', 'product1.public.service']\n"
     ]
    }
   ],
   "source": [
    "import re\n",
    "\n",
    "pattern = re.compile(rf\"{data_source}.*\")\n",
    "hadoop = spark.sparkContext._jvm.org.apache.hadoop\n",
    "fs = hadoop.fs.FileSystem\n",
    "conf = hadoop.conf.Configuration() \n",
    "path = hadoop.fs.Path(f\"{staging_path}/topics\")\n",
    "all_paths = [str(f.getPath()).split(\"/\")[-1] for f in fs.get(conf).listStatus(path)]\n",
    "all_tables = [path for path in all_paths if pattern.match(path)]\n",
    "print(f\"{'#'*2} all_tables={all_tables}\")\n",
    "for table in all_tables:\n",
    "    hdfs_path = f\"hdfs://yarn-master:9000{staging_path}/topics/{table}\"\n",
    "    table_name = table.replace(\".\", \"_\")\n",
    "    df = (\n",
    "        spark.read.format('parquet')\n",
    "        .options(header=True, inferSchema=True)\n",
    "        .load(hdfs_path)\n",
    "    )\n",
    "    if spark.sql(f\"show tables from staging like '{table_name}'\").isEmpty():\n",
    "        print(f\"{'#'*2} create table staging.{table_name}\")\n",
    "        spark.sql(f\"\"\"\n",
    "            create external table if not exists staging.{table_name}\n",
    "            ({', '.join([col + ' ' + dtype for col, dtype in df.dtypes])})\n",
    "            partitioned by (__ds)\n",
    "            stored as parquet\n",
    "            location \"{hdfs_path}\"\n",
    "        \"\"\")\n",
    "        spark.sql(f'repair table staging.{table_name}')"
   ]
  },
  {
   "cell_type": "code",
   "execution_count": 30,
   "id": "832e9476-bcb6-4792-90e0-6fe7ca58ed11",
   "metadata": {},
   "outputs": [
    {
     "name": "stdout",
     "output_type": "stream",
     "text": [
      "+-----------+----------+---------+----------+-----------------+------------+------------------+-----------------+-------------------+---------+----+--------+-----------------------+----------+\n",
      "|customer_id|first_name|last_name|birth_date|address          |phone_number|email             |job_title        |updated_datetime   |__deleted|__op|__lsn   |__src_ts_ms            |__ds      |\n",
      "+-----------+----------+---------+----------+-----------------+------------+------------------+-----------------+-------------------+---------+----+--------+-----------------------+----------+\n",
      "|2          |The       |Duong    |2025-06-04|132 ABC, MNO, XYZ|0865937124  |theduong@gmail.com|Software Engineer|2025-06-22 00:01:40|false    |u   |27099384|2025-06-21 17:01:40.226|2025-06-22|\n",
      "|2          |The       |Duong    |2025-06-05|132 ABC, MNO, XYZ|0865937124  |theduong@gmail.com|Software Engineer|2025-06-22 00:01:44|false    |u   |27101464|2025-06-21 17:01:44.327|2025-06-22|\n",
      "|2          |The       |Duong    |2025-06-06|132 ABC, MNO, XYZ|0865937124  |theduong@gmail.com|Software Engineer|2025-06-22 00:01:54|false    |u   |27101744|2025-06-21 17:01:54.36 |2025-06-22|\n",
      "|2          |The       |Duong    |2025-06-07|132 ABC, MNO, XYZ|0865937124  |theduong@gmail.com|Software Engineer|2025-06-22 00:14:35|false    |u   |27102200|2025-06-21 17:14:35.244|2025-06-22|\n",
      "|2          |The       |Duong    |2025-06-08|132 ABC, MNO, XYZ|0865937124  |theduong@gmail.com|Software Engineer|2025-06-22 00:14:38|false    |u   |27104720|2025-06-21 17:14:38.504|2025-06-22|\n",
      "|2          |The       |Duong    |2025-06-09|132 ABC, MNO, XYZ|0865937124  |theduong@gmail.com|Software Engineer|2025-06-22 00:14:41|false    |u   |27104944|2025-06-21 17:14:41.854|2025-06-22|\n",
      "|2          |The       |Duong    |2025-06-01|132 ABC, MNO, XYZ|0865937124  |theduong@gmail.com|Software Engineer|2025-06-21 23:55:10|false    |u   |27096872|2025-06-21 16:55:10.907|2025-06-21|\n",
      "|2          |The       |Duong    |2025-06-02|132 ABC, MNO, XYZ|0865937124  |theduong@gmail.com|Software Engineer|2025-06-21 23:55:14|false    |u   |27098624|2025-06-21 16:55:14.022|2025-06-21|\n",
      "|2          |The       |Duong    |2025-06-03|132 ABC, MNO, XYZ|0865937124  |theduong@gmail.com|Software Engineer|2025-06-21 23:55:16|false    |u   |27098848|2025-06-21 16:55:16.895|2025-06-21|\n",
      "|4          |Cuong     |Vo Quoccc|2001-07-07|12 ABC, MNO, XYZ |01234       |cuongvo@gmail.com |Data Engineer    |2025-06-18 23:35:52|false    |r   |27096544|2025-06-21 16:49:16.959|2025-06-21|\n",
      "+-----------+----------+---------+----------+-----------------+------------+------------------+-----------------+-------------------+---------+----+--------+-----------------------+----------+\n",
      "only showing top 10 rows\n",
      "\n"
     ]
    }
   ],
   "source": [
    "spark.sql(\"select * from staging.product1_public_customer\").show(10, False)"
   ]
  },
  {
   "cell_type": "markdown",
   "id": "4aa7e393-24bc-48f7-b7af-20f7c7a415d3",
   "metadata": {},
   "source": [
    "# create new rawvault tables"
   ]
  },
  {
   "cell_type": "code",
   "execution_count": 3,
   "id": "6eb5ddc4-467a-430a-a1e1-16bb17661f7f",
   "metadata": {},
   "outputs": [
    {
     "name": "stderr",
     "output_type": "stream",
     "text": [
      "                                                                                "
     ]
    }
   ],
   "source": [
    "table_name_pattern = data_source.replace(\".\", \"_\")\n",
    "staging_table_list = (\n",
    "    spark.sql(f\"show tables from staging like '{table_name_pattern}_*'\")\n",
    "        .select(\"tableName\")\n",
    "        .rdd.flatMap(lambda x: x).collect()\n",
    ")\n",
    "rawvault_table_list = (\n",
    "    spark.sql(f\"show tables from rawvault like '{table_name_pattern}_*'\")\n",
    "        .select(\"tableName\")\n",
    "        .rdd.flatMap(lambda x: x).collect()\n",
    ")\n",
    "new_tables = list(set(staging_table_list) - set(rawvault_table_list))"
   ]
  },
  {
   "cell_type": "code",
   "execution_count": 32,
   "id": "d2fe0e71-5c57-430c-88bd-9ec9fbc929c7",
   "metadata": {
    "scrolled": true
   },
   "outputs": [
    {
     "name": "stdout",
     "output_type": "stream",
     "text": [
      "product1_public_service_der\n",
      "product1_public_service_snp\n",
      "product1_public_service\n",
      "product1_public_customer_der\n",
      "product1_public_customer_snp\n",
      "product1_public_customer\n"
     ]
    }
   ],
   "source": [
    "for table in new_tables:\n",
    "    tables = {\"derived\": f\"{table}_der\", \"snapshot\": f\"{table}_snp\", \"main\": table}\n",
    "    for table_type, table_name in tables.items():\n",
    "        print(f\"{'#'*2} create table rawvault.{table_name}\")\n",
    "        df = spark.sql(f\"select * from staging.{tables['main']}\")\n",
    "        spark.sql(f\"\"\"\n",
    "        create external table if not exists rawvault.{table_name}\n",
    "        ({', '.join([col + ' ' + dtype for col, dtype in df.dtypes])})\n",
    "        using iceberg\n",
    "        {'partitioned by (days(updated_datetime))' if table_type == 'main' else ''}\n",
    "        location 'hdfs://yarn-master:9000/user/hive/warehouse/rawvault/{table_name}'\n",
    "        tblproperties(\n",
    "            'objcapabilities'='extread,extwrite',\n",
    "            'engine.hive.enabled'='true',\n",
    "            'write.delete.mode'='copy-on-write',\n",
    "            'write.update.mode'='copy-on-write',\n",
    "            'write.merge.mode'='copy-on-write',\n",
    "            'external.table.purge'='true',\n",
    "            'iceberg.file_format'='parquet',\n",
    "            'format-version'='2',\n",
    "            'read.parquet.vectorization.batch-size'='10000',\n",
    "            'read.parquet.vectorization.enabled'='false'\n",
    "        )\n",
    "        \"\"\")"
   ]
  },
  {
   "cell_type": "markdown",
   "id": "adabef53-63ed-476e-b1ec-ce7215d1fa80",
   "metadata": {},
   "source": [
    "# read and write stream"
   ]
  },
  {
   "cell_type": "code",
   "execution_count": 16,
   "id": "d60013ca-b85b-496b-80f5-979c37d8c293",
   "metadata": {},
   "outputs": [],
   "source": [
    "# stream_reader = (\n",
    "#     spark.readStream\n",
    "#     .schema(spark.sql(f\"select * from staging.product1_public_customer\").schema)\n",
    "#     .parquet(f\"hdfs://yarn-master:9000{staging_path}/topics/{staging_table.replace('_', '.')}\")\n",
    "# )\n",
    "# stream_writer = (\n",
    "#     stream_reader.writeStream\n",
    "#         .outputMode(\"append\").format(\"console\")\n",
    "#         .start()\n",
    "# )\n",
    "# stream_writer.awaitTermination()"
   ]
  },
  {
   "cell_type": "code",
   "execution_count": null,
   "id": "0f5a6f60-c0cb-41b0-99b4-cf08bc79cfff",
   "metadata": {
    "scrolled": true
   },
   "outputs": [
    {
     "name": "stderr",
     "output_type": "stream",
     "text": [
      "25/06/22 06:03:46 WARN ResolveWriteToStream: Temporary checkpoint location created which is deleted normally when the query didn't fail: /tmp/temporary-e65d64f0-03c8-4d8a-b27b-6719adacde6e. If it's required to delete it under any circumstances, please set spark.sql.streaming.forceDeleteTempCheckpointLocation to true. Important to know deleting temp checkpoint folder is best effort.\n",
      "25/06/22 06:03:46 WARN ResolveWriteToStream: spark.sql.adaptive.enabled is not supported in streaming DataFrames/Datasets and will be disabled.\n",
      "25/06/22 06:03:46 WARN ResolveWriteToStream: Temporary checkpoint location created which is deleted normally when the query didn't fail: /tmp/temporary-ffdd45c4-7d43-49b6-880e-281a1ebe387a. If it's required to delete it under any circumstances, please set spark.sql.streaming.forceDeleteTempCheckpointLocation to true. Important to know deleting temp checkpoint folder is best effort.\n",
      "25/06/22 06:03:46 WARN ResolveWriteToStream: spark.sql.adaptive.enabled is not supported in streaming DataFrames/Datasets and will be disabled.\n",
      "                                                                                "
     ]
    },
    {
     "name": "stdout",
     "output_type": "stream",
     "text": [
      "-------------------------------------------\n",
      "Batch: 0\n",
      "-------------------------------------------\n",
      "+----------+-----------------+---------+--------------+-----------+-------------+-------------------+---------+----+--------+--------------------+----------+\n",
      "|service_id|             name|    price|         image|active_date|inactive_date|   updated_datetime|__deleted|__op|   __lsn|         __src_ts_ms|      __ds|\n",
      "+----------+-----------------+---------+--------------+-----------+-------------+-------------------+---------+----+--------+--------------------+----------+\n",
      "|         1|    House Keeping|123.45600|        string| 2024-08-17|   9999-01-01|2024-08-17 14:43:01|    false|   r|27105864|2025-06-22 03:43:...|2025-06-22|\n",
      "|         2| Office for lease|301.00000|        string| 2024-08-17|   9999-01-01|2025-06-19 14:16:33|    false|   r|27105864|2025-06-22 03:43:...|2025-06-22|\n",
      "|        10|Electrocity check|300.00000|abc/xyz/ec.png| 2025-06-18|   2027-06-18|2025-06-19 14:25:15|    false|   r|27105864|2025-06-22 03:43:...|2025-06-22|\n",
      "+----------+-----------------+---------+--------------+-----------+-------------+-------------------+---------+----+--------+--------------------+----------+\n",
      "\n"
     ]
    },
    {
     "name": "stderr",
     "output_type": "stream",
     "text": [
      "                                                                                "
     ]
    },
    {
     "name": "stdout",
     "output_type": "stream",
     "text": [
      "-------------------------------------------\n",
      "Batch: 0\n",
      "-------------------------------------------\n",
      "+-----------+----------+----------+----------+-----------------+------------+------------------+-----------------+-------------------+---------+----+--------+--------------------+----------+\n",
      "|customer_id|first_name| last_name|birth_date|          address|phone_number|             email|        job_title|   updated_datetime|__deleted|__op|   __lsn|         __src_ts_ms|      __ds|\n",
      "+-----------+----------+----------+----------+-----------------+------------+------------------+-----------------+-------------------+---------+----+--------+--------------------+----------+\n",
      "|          3|      Dien|        Vo|2001-07-07|133 ABC, MNO, XYZ|  0865937134|  dienvo@gmail.com|    Data Engineer|2024-08-17 16:00:42|    false|   r|27105864|2025-06-22 03:43:...|2025-06-22|\n",
      "|          6|     Cuong|        Vo|2001-07-07| 12 ABC, MNO, XYZ|      012356|cuongvo2@gmail.com|    Data Engineer|2024-08-17 16:23:58|    false|   r|27105864|2025-06-22 03:43:...|2025-06-22|\n",
      "|          4|     Cuong| Vo Quoccc|2001-07-07| 12 ABC, MNO, XYZ|       01234| cuongvo@gmail.com|    Data Engineer|2025-06-18 23:35:52|    false|   r|27105864|2025-06-22 03:43:...|2025-06-22|\n",
      "|          2|       The|     Duong|2025-06-09|132 ABC, MNO, XYZ|  0865937124|theduong@gmail.com|Software Engineer|2025-06-22 00:14:41|    false|   r|27105864|2025-06-22 03:43:...|2025-06-22|\n",
      "|          5|     Cuong|        Vo|2025-01-15| 12 ABC, MNO, XYZ|       01235|cuongvo1@gmail.com| Data Engineer115|2025-01-15 16:06:59|    false|   r|27105864|2025-06-22 03:43:...|2025-06-22|\n",
      "|          1|        Vu|Tran Trieu|2001-11-17|123 ABC, MNO, XYZ|  0865937123|nitsvutt@gmail.com|    Data Engineer|2025-06-18 23:24:57|    false|   r|27105864|2025-06-22 03:43:...|2025-06-22|\n",
      "+-----------+----------+----------+----------+-----------------+------------+------------------+-----------------+-------------------+---------+----+--------+--------------------+----------+\n",
      "\n"
     ]
    }
   ],
   "source": [
    "for staging_table in staging_table_list:\n",
    "    stream_reader = (\n",
    "        spark.readStream\n",
    "        .schema(spark.sql(f\"select * from staging.{staging_table}\").schema)\n",
    "        .parquet(f\"hdfs://yarn-master:9000{staging_path}/topics/{staging_table.replace('_', '.')}\")\n",
    "    )\n",
    "    stream_writer = (\n",
    "        stream_reader.writeStream\n",
    "            .outputMode(\"append\").format(\"console\")\n",
    "            .start()\n",
    "    )\n",
    "    # stream_query = (\n",
    "    #     stream_reader.writeStream\n",
    "    #     .outputMode(\"append\").format(\"iceberg\")\n",
    "    #     .option(\"checkpointLocation\", f\"hdfs://yarn-master:9000{staging_path}/checkpoints/{staging_table}\")\n",
    "    #     .trigger(processingTime=\"10 seconds\")\n",
    "    #     .toTable(f\"rawvault.{staging_table}_der\")\n",
    "    # )\n",
    "spark.streams.awaitAnyTermination()"
   ]
  },
  {
   "cell_type": "code",
   "execution_count": 3,
   "id": "68d63de9-d872-4481-85d2-b772394f9340",
   "metadata": {},
   "outputs": [
    {
     "name": "stderr",
     "output_type": "stream",
     "text": [
      "[Stage 1:>                                                          (0 + 1) / 1]"
     ]
    },
    {
     "name": "stdout",
     "output_type": "stream",
     "text": [
      "+-----------+----------+----------+----------+-----------------+------------+------------------+-----------------+-------------------+---------+----+--------+----------------------+----------+\n",
      "|customer_id|first_name|last_name |birth_date|address          |phone_number|email             |job_title        |updated_datetime   |__deleted|__op|__lsn   |__src_ts_ms           |__ds      |\n",
      "+-----------+----------+----------+----------+-----------------+------------+------------------+-----------------+-------------------+---------+----+--------+----------------------+----------+\n",
      "|3          |Dien      |Vo        |2001-07-07|133 ABC, MNO, XYZ|0865937134  |dienvo@gmail.com  |Data Engineer    |2024-08-17 16:00:42|false    |r   |27105864|2025-06-22 03:43:09.75|2025-06-22|\n",
      "|6          |Cuong     |Vo        |2001-07-07|12 ABC, MNO, XYZ |012356      |cuongvo2@gmail.com|Data Engineer    |2024-08-17 16:23:58|false    |r   |27105864|2025-06-22 03:43:09.75|2025-06-22|\n",
      "|4          |Cuong     |Vo Quoccc |2001-07-07|12 ABC, MNO, XYZ |01234       |cuongvo@gmail.com |Data Engineer    |2025-06-18 23:35:52|false    |r   |27105864|2025-06-22 03:43:09.75|2025-06-22|\n",
      "|2          |The       |Duong     |2025-06-09|132 ABC, MNO, XYZ|0865937124  |theduong@gmail.com|Software Engineer|2025-06-22 00:14:41|false    |r   |27105864|2025-06-22 03:43:09.75|2025-06-22|\n",
      "|5          |Cuong     |Vo        |2025-01-15|12 ABC, MNO, XYZ |01235       |cuongvo1@gmail.com|Data Engineer115 |2025-01-15 16:06:59|false    |r   |27105864|2025-06-22 03:43:09.75|2025-06-22|\n",
      "|1          |Vu        |Tran Trieu|2001-11-17|123 ABC, MNO, XYZ|0865937123  |nitsvutt@gmail.com|Data Engineer    |2025-06-18 23:24:57|false    |r   |27105864|2025-06-22 03:43:09.75|2025-06-22|\n",
      "+-----------+----------+----------+----------+-----------------+------------+------------------+-----------------+-------------------+---------+----+--------+----------------------+----------+\n",
      "\n"
     ]
    },
    {
     "name": "stderr",
     "output_type": "stream",
     "text": [
      "                                                                                "
     ]
    }
   ],
   "source": [
    "df = (\n",
    "    spark.read.format('parquet')\n",
    "    .options(header=True, inferSchema=True)\n",
    "    .load(\"hdfs://yarn-master:9000/user/hive/warehouse/staging/topics/product1.public.customer\")\n",
    ")\n",
    "df.show(10, False)"
   ]
  },
  {
   "cell_type": "code",
   "execution_count": null,
   "id": "a2b19cf2-7710-4035-99dd-d6ea191c456d",
   "metadata": {},
   "outputs": [],
   "source": [
    "spark.sql(\"select * from rawvault.product1_public_customer_der\").show(10, False)"
   ]
  },
  {
   "cell_type": "code",
   "execution_count": null,
   "id": "3fd8474a-7aab-4634-a023-8f7003d4fed9",
   "metadata": {},
   "outputs": [],
   "source": []
  },
  {
   "cell_type": "code",
   "execution_count": null,
   "id": "ee2cfb5e-caf4-4e6b-9a5a-3c86af878d22",
   "metadata": {},
   "outputs": [],
   "source": []
  }
 ],
 "metadata": {
  "kernelspec": {
   "display_name": "Python 3 (ipykernel)",
   "language": "python",
   "name": "python3"
  },
  "language_info": {
   "codemirror_mode": {
    "name": "ipython",
    "version": 3
   },
   "file_extension": ".py",
   "mimetype": "text/x-python",
   "name": "python",
   "nbconvert_exporter": "python",
   "pygments_lexer": "ipython3",
   "version": "3.10.18"
  }
 },
 "nbformat": 4,
 "nbformat_minor": 5
}

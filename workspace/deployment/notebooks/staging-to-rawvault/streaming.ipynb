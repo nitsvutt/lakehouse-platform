{
 "cells": [
  {
   "cell_type": "markdown",
   "id": "fc577f76-fd2d-4485-964e-65ede3f67ef9",
   "metadata": {},
   "source": [
    "# init spark session"
   ]
  },
  {
   "cell_type": "code",
   "execution_count": 6,
   "id": "af0dacdc-a5f2-4cbb-ac15-04f94e237c17",
   "metadata": {},
   "outputs": [
    {
     "data": {
      "text/html": [
       "<style>pre { white-space: pre !important; }.container { width:100% !important; }</style>"
      ],
      "text/plain": [
       "<IPython.core.display.HTML object>"
      ]
     },
     "metadata": {},
     "output_type": "display_data"
    }
   ],
   "source": [
    "from IPython.core.display import HTML\n",
    "display(HTML(\"\"\"<style>pre { white-space: pre !important; }.container { width:100% !important; }</style>\"\"\"))"
   ]
  },
  {
   "cell_type": "code",
   "execution_count": 2,
   "id": "6dd2e3c0-4c45-409a-a500-cf3809a4b9b1",
   "metadata": {},
   "outputs": [
    {
     "name": "stderr",
     "output_type": "stream",
     "text": [
      "Warning: Ignoring non-Spark config property: hive.metastore.uris\n",
      "24/11/17 09:31:08 WARN NativeCodeLoader: Unable to load native-hadoop library for your platform... using builtin-java classes where applicable\n",
      "Setting default log level to \"WARN\".\n",
      "To adjust logging level use sc.setLogLevel(newLevel). For SparkR, use setLogLevel(newLevel).\n"
     ]
    }
   ],
   "source": [
    "from pyspark.sql import SparkSession\n",
    "\n",
    "spark = (\n",
    "    SparkSession.builder\n",
    "    .master(\"spark://spark-master:7077\")\n",
    "    .appName(\"staging-to-rawvault-streaming\")\n",
    "    .config(\"spark.driver.memory\", \"1g\")\n",
    "    .config(\"hive.metastore.uris\", \"thrift://hive-metastore:9083\")\n",
    "    .config(\"spark.sql.warehouse.dir\", \"hdfs://namenode:9000/user/hive/warehouse/default\")\n",
    "    .config(\"spark.jars\", \"\"\"\n",
    "        hdfs://namenode:9000/user/hive/spark_jars/iceberg-hive-runtime-1.4.3.jar,\n",
    "        hdfs://namenode:9000/user/hive/spark_jars/iceberg-spark-runtime-3.4_2.12-1.4.3.jar\n",
    "    \"\"\")\n",
    "    .config(\"spark.sql.extensions\", \"org.apache.iceberg.spark.extensions.IcebergSparkSessionExtensions\")\n",
    "    .config(\"spark.sql.catalog.spark_catalog\", \"org.apache.iceberg.spark.SparkSessionCatalog\")\n",
    "    .config(\"spark.executor.cores\", 3)\n",
    "    .config(\"spark.executor.memory\", \"6g\")\n",
    "    .config(\"spark.executor.instances\", 2)\n",
    "    .enableHiveSupport()\n",
    "    .getOrCreate()\n",
    ")"
   ]
  },
  {
   "cell_type": "code",
   "execution_count": 3,
   "id": "ec5c5e64-a618-466f-a0bf-42f780792baa",
   "metadata": {},
   "outputs": [
    {
     "data": {
      "text/html": [
       "\n",
       "            <div>\n",
       "                <p><b>SparkSession - hive</b></p>\n",
       "                \n",
       "        <div>\n",
       "            <p><b>SparkContext</b></p>\n",
       "\n",
       "            <p><a href=\"http://gateway:4040\">Spark UI</a></p>\n",
       "\n",
       "            <dl>\n",
       "              <dt>Version</dt>\n",
       "                <dd><code>v3.4.1</code></dd>\n",
       "              <dt>Master</dt>\n",
       "                <dd><code>spark://spark-master:7077</code></dd>\n",
       "              <dt>AppName</dt>\n",
       "                <dd><code>staging-to-rawvault-streaming</code></dd>\n",
       "            </dl>\n",
       "        </div>\n",
       "        \n",
       "            </div>\n",
       "        "
      ],
      "text/plain": [
       "<pyspark.sql.session.SparkSession at 0xffffb1715b40>"
      ]
     },
     "execution_count": 3,
     "metadata": {},
     "output_type": "execute_result"
    }
   ],
   "source": [
    "spark"
   ]
  },
  {
   "cell_type": "markdown",
   "id": "4aa7e393-24bc-48f7-b7af-20f7c7a415d3",
   "metadata": {},
   "source": [
    "# check staging"
   ]
  },
  {
   "cell_type": "code",
   "execution_count": 14,
   "id": "e982c099-227a-443e-878e-859fff0a0ac5",
   "metadata": {},
   "outputs": [
    {
     "name": "stdout",
     "output_type": "stream",
     "text": [
      "+-----------+----------+---------+----------+-----------------+------------+------------------+-----------------+----------------+----+--------+-------------+---------+\n",
      "|customer_id|first_name|last_name|birth_date|address          |phone_number|email             |job_title        |updated_datetime|__op|__lsn   |__src_ts_ms  |partition|\n",
      "+-----------+----------+---------+----------+-----------------+------------+------------------+-----------------+----------------+----+--------+-------------+---------+\n",
      "|1          |Vu        |Tran     |18583     |123 ABC, MNO, XYZ|0865937123  |nitsvutt@gmail.com|Data Engineer    |1731864517000000|u   |26934384|1731839317757|0        |\n",
      "|1          |Vu        |Tran     |11278     |123 ABC, MNO, XYZ|0865937123  |nitsvutt@gmail.com|Data Engineer    |1731865025000000|u   |26935792|1731839825873|0        |\n",
      "|1          |Vu        |Tran     |11643     |123 ABC, MNO, XYZ|0865937123  |nitsvutt@gmail.com|Data Engineer    |1731865031000000|u   |26937064|1731839831416|0        |\n",
      "|4          |Cuong     |Vo       |11510     |12 ABC, MNO, XYZ |01234       |cuongvo@gmail.com |Data Engineer    |1723911737000000|r   |26934056|1731838580788|0        |\n",
      "|5          |Cuong     |Vo       |11510     |12 ABC, MNO, XYZ |01235       |cuongvo1@gmail.com|Data Engineer    |1723911824000000|r   |26934056|1731838580788|0        |\n",
      "|6          |Cuong     |Vo       |11510     |12 ABC, MNO, XYZ |012356      |cuongvo2@gmail.com|Data Engineer    |1723911838000000|r   |26934056|1731838580788|0        |\n",
      "|1          |Vu        |Tran     |11378     |123 ABC, MNO, XYZ|0865937123  |nitsvutt@gmail.com|Data Engineer    |1723898668000000|r   |26934056|1731838580788|0        |\n",
      "|2          |The       |Duong    |11510     |132 ABC, MNO, XYZ|0865937124  |theduong@gmail.com|Software Engineer|1723907232000000|r   |26934056|1731838580788|0        |\n",
      "|3          |Dien      |Vo       |11510     |133 ABC, MNO, XYZ|0865937134  |dienvo@gmail.com  |Data Engineer    |1723910442000000|r   |26934056|1731838580788|0        |\n",
      "+-----------+----------+---------+----------+-----------------+------------+------------------+-----------------+----------------+----+--------+-------------+---------+\n",
      "\n"
     ]
    }
   ],
   "source": [
    "path = 'hdfs://namenode:9000/user/hive/warehouse/staging/topics/product1.public.customer/'\n",
    "df = (\n",
    "    spark.read.format('parquet')\n",
    "    .options(header=True,inferSchema=True)\n",
    "    .load(path)\n",
    ")\n",
    "df.show(10, False)"
   ]
  },
  {
   "cell_type": "code",
   "execution_count": 16,
   "id": "114e9649-aa50-4ab2-bffd-fff7017c5a20",
   "metadata": {
    "scrolled": true
   },
   "outputs": [],
   "source": [
    "# spark.sql(f\"\"\"\n",
    "# create external table staging.product1_customer\n",
    "# ({', '.join([col + ' ' + dtype for col, dtype in df.dtypes])})\n",
    "# stored as parquet\n",
    "# location \"hdfs://namenode:9000/user/hive/warehouse/staging/topics/product1.public.customer\"\n",
    "# \"\"\")"
   ]
  },
  {
   "cell_type": "code",
   "execution_count": 18,
   "id": "d04b82e6-e2b6-46ac-a5fa-d1222f682839",
   "metadata": {
    "scrolled": true
   },
   "outputs": [
    {
     "name": "stdout",
     "output_type": "stream",
     "text": [
      "+-----------+----------+---------+----------+-----------------+------------+------------------+-----------------+----------------+----+--------+-------------+---------+\n",
      "|customer_id|first_name|last_name|birth_date|address          |phone_number|email             |job_title        |updated_datetime|__op|__lsn   |__src_ts_ms  |partition|\n",
      "+-----------+----------+---------+----------+-----------------+------------+------------------+-----------------+----------------+----+--------+-------------+---------+\n",
      "|1          |Vu        |Tran     |11643     |123 ABC, MNO, XYZ|0865937123  |nitsvutt@gmail.com|Data Engineer    |1731865031000000|u   |26937064|1731839831416|0        |\n",
      "|1          |Vu        |Tran     |11278     |123 ABC, MNO, XYZ|0865937123  |nitsvutt@gmail.com|Data Engineer    |1731865025000000|u   |26935792|1731839825873|0        |\n",
      "|1          |Vu        |Tran     |18583     |123 ABC, MNO, XYZ|0865937123  |nitsvutt@gmail.com|Data Engineer    |1731864517000000|u   |26934384|1731839317757|0        |\n",
      "|4          |Cuong     |Vo       |11510     |12 ABC, MNO, XYZ |01234       |cuongvo@gmail.com |Data Engineer    |1723911737000000|r   |26934056|1731838580788|0        |\n",
      "|1          |Vu        |Tran     |11378     |123 ABC, MNO, XYZ|0865937123  |nitsvutt@gmail.com|Data Engineer    |1723898668000000|r   |26934056|1731838580788|0        |\n",
      "|5          |Cuong     |Vo       |11510     |12 ABC, MNO, XYZ |01235       |cuongvo1@gmail.com|Data Engineer    |1723911824000000|r   |26934056|1731838580788|0        |\n",
      "|2          |The       |Duong    |11510     |132 ABC, MNO, XYZ|0865937124  |theduong@gmail.com|Software Engineer|1723907232000000|r   |26934056|1731838580788|0        |\n",
      "|6          |Cuong     |Vo       |11510     |12 ABC, MNO, XYZ |012356      |cuongvo2@gmail.com|Data Engineer    |1723911838000000|r   |26934056|1731838580788|0        |\n",
      "|3          |Dien      |Vo       |11510     |133 ABC, MNO, XYZ|0865937134  |dienvo@gmail.com  |Data Engineer    |1723910442000000|r   |26934056|1731838580788|0        |\n",
      "+-----------+----------+---------+----------+-----------------+------------+------------------+-----------------+----------------+----+--------+-------------+---------+\n",
      "\n"
     ]
    },
    {
     "name": "stderr",
     "output_type": "stream",
     "text": [
      "                                                                                \r"
     ]
    }
   ],
   "source": [
    "spark.sql(f\"\"\"\n",
    "select *\n",
    "from staging.product1_customer\n",
    "order by __lsn desc\n",
    "\"\"\").show(10, False)"
   ]
  },
  {
   "cell_type": "code",
   "execution_count": null,
   "id": "8d24912e-e723-47d8-82a7-017d0dd3963e",
   "metadata": {},
   "outputs": [],
   "source": []
  },
  {
   "cell_type": "code",
   "execution_count": null,
   "id": "0f5a6f60-c0cb-41b0-99b4-cf08bc79cfff",
   "metadata": {},
   "outputs": [],
   "source": []
  },
  {
   "cell_type": "code",
   "execution_count": null,
   "id": "f80c38c9-3694-4f5f-947d-b9c7369b2152",
   "metadata": {},
   "outputs": [],
   "source": []
  },
  {
   "cell_type": "code",
   "execution_count": null,
   "id": "a247615d-8699-4e89-bdfc-5d0fbd78d274",
   "metadata": {},
   "outputs": [],
   "source": []
  },
  {
   "cell_type": "code",
   "execution_count": null,
   "id": "f6124327-81af-464a-b7a8-b7e7ac5fc670",
   "metadata": {},
   "outputs": [],
   "source": []
  },
  {
   "cell_type": "code",
   "execution_count": null,
   "id": "b08bd2fd-3a99-4c9f-bd23-dad723baebdb",
   "metadata": {},
   "outputs": [],
   "source": []
  },
  {
   "cell_type": "code",
   "execution_count": null,
   "id": "1b78a938-f26c-410b-82d4-8fd8cdd4cd2e",
   "metadata": {},
   "outputs": [],
   "source": []
  }
 ],
 "metadata": {
  "kernelspec": {
   "display_name": "Python 3 (ipykernel)",
   "language": "python",
   "name": "python3"
  },
  "language_info": {
   "codemirror_mode": {
    "name": "ipython",
    "version": 3
   },
   "file_extension": ".py",
   "mimetype": "text/x-python",
   "name": "python",
   "nbconvert_exporter": "python",
   "pygments_lexer": "ipython3",
   "version": "3.10.4"
  }
 },
 "nbformat": 4,
 "nbformat_minor": 5
}
